{
 "cells": [
  {
   "cell_type": "markdown",
   "id": "85862ae9",
   "metadata": {},
   "source": [
    "procesos con subprocess"
   ]
  },
  {
   "cell_type": "code",
   "execution_count": 1,
   "id": "fb60a1d1",
   "metadata": {},
   "outputs": [
    {
     "name": "stdout",
     "output_type": "stream",
     "text": [
      "#63-Ubuntu SMP PREEMPT_DYNAMIC Tue Apr 15 19:04:15 UTC 2025\n"
     ]
    }
   ],
   "source": [
    "import subprocess\n",
    "\n",
    "out = subprocess.check_output([\"uname\", \"-v\"], text=True)\n",
    "print(out.strip())\n"
   ]
  },
  {
   "cell_type": "markdown",
   "id": "3dec0305",
   "metadata": {},
   "source": [
    " Multiprocesamiento básico"
   ]
  },
  {
   "cell_type": "code",
   "execution_count": 5,
   "id": "60f6d00e",
   "metadata": {},
   "outputs": [
    {
     "name": "stdout",
     "output_type": "stream",
     "text": [
      "[0, 1, 4, 9]\n"
     ]
    }
   ],
   "source": [
    "from multiprocessing import Pool\n",
    "\n",
    "def f(x): return x * x\n",
    "\n",
    "with Pool() as p:\n",
    "    print(p.map(f, range(4)))\n"
   ]
  },
  {
   "cell_type": "code",
   "execution_count": 4,
   "id": "595c9928",
   "metadata": {},
   "outputs": [
    {
     "name": "stdout",
     "output_type": "stream",
     "text": [
      "Inicio 0\n",
      "Inicio 1\n",
      "Inicio 2\n",
      "Fin 0\n",
      "Fin 1\n",
      "Fin 2\n"
     ]
    },
    {
     "data": {
      "text/plain": [
       "[None, None, None]"
      ]
     },
     "execution_count": 4,
     "metadata": {},
     "output_type": "execute_result"
    }
   ],
   "source": [
    "import threading, time\n",
    "\n",
    "def tarea(n):\n",
    "    print(f'Inicio {n}')\n",
    "    time.sleep(1)\n",
    "    print(f'Fin {n}')\n",
    "\n",
    "hilos = [threading.Thread(target=tarea, args=(i,)) for i in range(3)]\n",
    "[t.start() for t in hilos]\n",
    "[t.join() for t in hilos]\n"
   ]
  },
  {
   "cell_type": "code",
   "execution_count": 2,
   "id": "b5225166",
   "metadata": {},
   "outputs": [
    {
     "name": "stdout",
     "output_type": "stream",
     "text": [
      "1256\n"
     ]
    }
   ],
   "source": [
    "import asyncio, aiohttp\n",
    "\n",
    "async def fetch(url):\n",
    "    async with aiohttp.ClientSession() as s:\n",
    "        async with s.get(url) as r:\n",
    "            return await r.text()\n",
    "\n",
    "async def main():\n",
    "    html = await fetch('https://example.com')\n",
    "    print(len(html))\n",
    "\n",
    "await main()\n"
   ]
  },
  {
   "cell_type": "code",
   "execution_count": 3,
   "id": "73ef9287",
   "metadata": {},
   "outputs": [
    {
     "name": "stdout",
     "output_type": "stream",
     "text": [
      "0\n",
      "1\n",
      "4\n",
      "9\n",
      "16\n"
     ]
    }
   ],
   "source": [
    "from concurrent.futures import ThreadPoolExecutor\n",
    "\n",
    "def f(x): return x ** 2\n",
    "\n",
    "with ThreadPoolExecutor(max_workers=4) as ex:\n",
    "    for r in ex.map(f, range(5)):\n",
    "        print(r)\n"
   ]
  },
  {
   "cell_type": "markdown",
   "id": "cdf4f79a",
   "metadata": {},
   "source": []
  }
 ],
 "metadata": {
  "kernelspec": {
   "display_name": ".venv",
   "language": "python",
   "name": "python3"
  },
  "language_info": {
   "codemirror_mode": {
    "name": "ipython",
    "version": 3
   },
   "file_extension": ".py",
   "mimetype": "text/x-python",
   "name": "python",
   "nbconvert_exporter": "python",
   "pygments_lexer": "ipython3",
   "version": "3.13.5"
  }
 },
 "nbformat": 4,
 "nbformat_minor": 5
}
