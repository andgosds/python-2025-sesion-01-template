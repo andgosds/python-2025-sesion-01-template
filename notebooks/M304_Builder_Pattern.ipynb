{
 "cells": [
  {
   "cell_type": "markdown",
   "id": "ca02f66f",
   "metadata": {},
   "source": [
    "\n",
    "# Patrón Builder en Python 🏗️\n",
    "\n",
    "Este notebook te enseñará:\n",
    "- Qué es el patrón Builder.\n",
    "- Cuándo usarlo.\n",
    "- Ejemplos paso a paso en Python.\n",
    "- Ejercicios prácticos con solución.\n"
   ]
  },
  {
   "cell_type": "markdown",
   "id": "f805ebd7",
   "metadata": {},
   "source": [
    "\n",
    "## ¿Qué problema resuelve Builder?\n",
    "\n",
    "Cuando queremos crear objetos complejos que requieren **muchos pasos de inicialización**, el código puede volverse:\n",
    "- Difícil de leer.\n",
    "- Propenso a errores.\n",
    "- Lleno de constructores con demasiados parámetros.\n",
    "\n",
    "**Builder** separa el proceso de construcción en **pasos claros**, dejando el código cliente más limpio.\n"
   ]
  },
  {
   "cell_type": "markdown",
   "id": "8fe5643a",
   "metadata": {},
   "source": [
    "## Ejemplo 1: Crear una Pizza sin Director"
   ]
  },
  {
   "cell_type": "code",
   "execution_count": 1,
   "id": "712550c8",
   "metadata": {},
   "outputs": [
    {
     "name": "stdout",
     "output_type": "stream",
     "text": [
      "Pizza(masa=fina, salsa=barbacoa, toppings=['queso', 'pollo'])\n"
     ]
    }
   ],
   "source": [
    "\n",
    "class Pizza:\n",
    "    def __init__(self):\n",
    "        self.masa = None\n",
    "        self.salsa = None\n",
    "        self.toppings = []\n",
    "\n",
    "    def __repr__(self):\n",
    "        return f\"Pizza(masa={self.masa}, salsa={self.salsa}, toppings={self.toppings})\"\n",
    "\n",
    "class PizzaBuilder:\n",
    "    def __init__(self):\n",
    "        self.reset()\n",
    "\n",
    "    def reset(self):\n",
    "        self._pizza = Pizza()\n",
    "\n",
    "    def set_masa(self, masa):\n",
    "        self._pizza.masa = masa\n",
    "        return self\n",
    "\n",
    "    def set_salsa(self, salsa):\n",
    "        self._pizza.salsa = salsa\n",
    "        return self\n",
    "\n",
    "    def add_topping(self, topping):\n",
    "        self._pizza.toppings.append(topping)\n",
    "        return self\n",
    "\n",
    "    def build(self):\n",
    "        pizza = self._pizza\n",
    "        self.reset()\n",
    "        return pizza\n",
    "\n",
    "builder = PizzaBuilder()\n",
    "pizza = (builder.set_masa(\"fina\")\n",
    "               .set_salsa(\"barbacoa\")\n",
    "               .add_topping(\"queso\")\n",
    "               .add_topping(\"pollo\")\n",
    "               .build())\n",
    "print(pizza)\n"
   ]
  },
  {
   "cell_type": "markdown",
   "id": "326bc0f3",
   "metadata": {},
   "source": [
    "\n",
    "## Ejercicio 1: Sandwich Builder 🍞\n",
    "\n",
    "Crea una clase `SandwichBuilder` que permita construir un Sandwich con:\n",
    "- Tipo de pan\n",
    "- Ingredientes (lista)\n",
    "- Salsa\n",
    "\n",
    "Al final, el método `build()` debe devolver el Sandwich completo.\n"
   ]
  },
  {
   "cell_type": "code",
   "execution_count": 2,
   "id": "3da56128",
   "metadata": {},
   "outputs": [
    {
     "name": "stdout",
     "output_type": "stream",
     "text": [
      "Sandwich(pan=integral, ingredientes=['lechuga', 'tomate', 'pavo'], salsa=mayonesa)\n"
     ]
    }
   ],
   "source": [
    "\n",
    "class Sandwich:\n",
    "    def __init__(self):\n",
    "        self.pan = None\n",
    "        self.ingredientes = []\n",
    "        self.salsa = None\n",
    "\n",
    "    def __repr__(self):\n",
    "        return f\"Sandwich(pan={self.pan}, ingredientes={self.ingredientes}, salsa={self.salsa})\"\n",
    "\n",
    "class SandwichBuilder:\n",
    "    def __init__(self):\n",
    "        self.reset()\n",
    "\n",
    "    def reset(self):\n",
    "        self._sandwich = Sandwich()\n",
    "\n",
    "    def set_pan(self, pan):\n",
    "        self._sandwich.pan = pan\n",
    "        return self\n",
    "\n",
    "    def add_ingrediente(self, ingrediente):\n",
    "        self._sandwich.ingredientes.append(ingrediente)\n",
    "        return self\n",
    "\n",
    "    def set_salsa(self, salsa):\n",
    "        self._sandwich.salsa = salsa\n",
    "        return self\n",
    "\n",
    "    def build(self):\n",
    "        sandwich = self._sandwich\n",
    "        self.reset()\n",
    "        return sandwich\n",
    "\n",
    "b = SandwichBuilder()\n",
    "s = (b.set_pan(\"integral\")\n",
    "       .add_ingrediente(\"lechuga\")\n",
    "       .add_ingrediente(\"tomate\")\n",
    "       .add_ingrediente(\"pavo\")\n",
    "       .set_salsa(\"mayonesa\")\n",
    "       .build())\n",
    "print(s)\n"
   ]
  },
  {
   "cell_type": "markdown",
   "id": "ddfe1f65",
   "metadata": {},
   "source": [
    "\n",
    "## Ejemplo 2: Usando un Director\n",
    "\n",
    "La clase Director nos permite **definir recetas predefinidas**.\n"
   ]
  },
  {
   "cell_type": "code",
   "execution_count": null,
   "id": "65a9af98",
   "metadata": {},
   "outputs": [],
   "source": [
    "\n",
    "class PizzaDirector:\n",
    "    def __init__(self, builder):\n",
    "        self.builder = builder\n",
    "\n",
    "    def pizza_hawaiana(self):\n",
    "        (self.builder.set_masa(\"fina\")\n",
    "             .set_salsa(\"tomate\")\n",
    "             .add_topping(\"jamón\")\n",
    "             .add_topping(\"piña\"))\n",
    "        return self.builder.build()\n",
    "\n",
    "    def pizza_barbacoa(self):\n",
    "        (self.builder.set_masa(\"gruesa\")\n",
    "             .set_salsa(\"barbacoa\")\n",
    "             .add_topping(\"pollo\")\n",
    "             .add_topping(\"queso\"))\n",
    "        return self.builder.build()\n",
    "\n",
    "pb = PizzaBuilder()\n",
    "director = PizzaDirector(pb)\n",
    "print(director.pizza_hawaiana())\n",
    "print(director.pizza_barbacoa())\n"
   ]
  },
  {
   "cell_type": "markdown",
   "id": "e670bfeb",
   "metadata": {},
   "source": [
    "\n",
    "## Ejercicio 2: Director para Ensaladas 🥗\n",
    "\n",
    "Crea un `SaladBuilder` y un `SaladDirector` con dos recetas: **César** y **Mediterránea**.\n"
   ]
  },
  {
   "cell_type": "code",
   "execution_count": null,
   "id": "cbc2e3e3",
   "metadata": {},
   "outputs": [],
   "source": [
    "\n",
    "class Salad:\n",
    "    def __init__(self):\n",
    "        self.base = None\n",
    "        self.toppings = []\n",
    "        self.aliño = None\n",
    "\n",
    "    def __repr__(self):\n",
    "        return f\"Salad(base={self.base}, toppings={self.toppings}, aliño={self.aliño})\"\n",
    "\n",
    "class SaladBuilder:\n",
    "    def __init__(self):\n",
    "        self.reset()\n",
    "\n",
    "    def reset(self):\n",
    "        self._salad = Salad()\n",
    "\n",
    "    def set_base(self, base):\n",
    "        self._salad.base = base\n",
    "        return self\n",
    "\n",
    "    def add_topping(self, topping):\n",
    "        self._salad.toppings.append(topping)\n",
    "        return self\n",
    "\n",
    "    def set_aliño(self, aliño):\n",
    "        self._salad.aliño = aliño\n",
    "        return self\n",
    "\n",
    "    def build(self):\n",
    "        salad = self._salad\n",
    "        self.reset()\n",
    "        return salad\n",
    "\n",
    "class SaladDirector:\n",
    "    def __init__(self, builder):\n",
    "        self.builder = builder\n",
    "\n",
    "    def cesar(self):\n",
    "        (self.builder.set_base(\"lechuga romana\")\n",
    "             .add_topping(\"pollo\")\n",
    "             .add_topping(\"parmesano\")\n",
    "             .add_topping(\"croutons\")\n",
    "             .set_aliño(\"cesar\"))\n",
    "        return self.builder.build()\n",
    "\n",
    "    def mediterranea(self):\n",
    "        (self.builder.set_base(\"mezcla verde\")\n",
    "             .add_topping(\"tomate\")\n",
    "             .add_topping(\"aceitunas\")\n",
    "             .add_topping(\"feta\")\n",
    "             .set_aliño(\"aceite de oliva\"))\n",
    "        return self.builder.build()\n",
    "\n",
    "sb = SaladBuilder()\n",
    "sd = SaladDirector(sb)\n",
    "print(sd.cesar())\n",
    "print(sd.mediterranea())\n"
   ]
  },
  {
   "cell_type": "markdown",
   "id": "822a4bcb",
   "metadata": {},
   "source": [
    "\n",
    "## Resumen ✅\n",
    "\n",
    "Con el patrón Builder hemos aprendido a:\n",
    "- Separar la lógica de construcción de la representación final del objeto.\n",
    "- Crear objetos complejos paso a paso.\n",
    "- Reutilizar el mismo Builder para **múltiples configuraciones**.\n",
    "- Usar opcionalmente un **Director** para centralizar el proceso.\n",
    "\n",
    "**Builder = construcción controlada, clara y extensible.**\n"
   ]
  },
  {
   "cell_type": "markdown",
   "id": "8869a935",
   "metadata": {},
   "source": []
  }
 ],
 "metadata": {
  "kernelspec": {
   "display_name": ".venv",
   "language": "python",
   "name": "python3"
  },
  "language_info": {
   "codemirror_mode": {
    "name": "ipython",
    "version": 3
   },
   "file_extension": ".py",
   "mimetype": "text/x-python",
   "name": "python",
   "nbconvert_exporter": "python",
   "pygments_lexer": "ipython3",
   "version": "3.13.5"
  }
 },
 "nbformat": 4,
 "nbformat_minor": 5
}
