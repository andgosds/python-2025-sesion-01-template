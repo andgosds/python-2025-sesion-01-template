{
 "cells": [
  {
   "cell_type": "markdown",
   "id": "68a260ab",
   "metadata": {},
   "source": [
    "\n",
    "# Patrón Factory en Python 🏭\n",
    "\n",
    "Este notebook explica el patrón Factory, muestra sus variantes y propone ejercicios prácticos de dificultad creciente, con soluciones.\n"
   ]
  },
  {
   "cell_type": "markdown",
   "id": "df3e97f1",
   "metadata": {},
   "source": [
    "\n",
    "## ¿Qué es el patrón Factory?\n",
    "\n",
    "El patrón Factory delega la creación de objetos a una función o clase especial llamada **Factory**.  \n",
    "El cliente no necesita conocer la clase concreta, solo el tipo de objeto que necesita.\n",
    "\n",
    "Esto facilita mantenimiento, pruebas y extensibilidad.\n"
   ]
  },
  {
   "cell_type": "markdown",
   "id": "a8b2f0e6",
   "metadata": {},
   "source": [
    "## Ejemplo: Simple Factory"
   ]
  },
  {
   "cell_type": "code",
   "execution_count": 1,
   "id": "03cee7a6",
   "metadata": {},
   "outputs": [
    {
     "name": "stdout",
     "output_type": "stream",
     "text": [
      "Conduciendo un coche 🚗\n"
     ]
    }
   ],
   "source": [
    "\n",
    "class Vehiculo:\n",
    "    def mover(self):\n",
    "        pass\n",
    "\n",
    "class Coche(Vehiculo):\n",
    "    def mover(self):\n",
    "        return \"Conduciendo un coche 🚗\"\n",
    "\n",
    "class Bicicleta(Vehiculo):\n",
    "    def mover(self):\n",
    "        return \"Pedaleando una bicicleta 🚲\"\n",
    "\n",
    "def vehiculo_factory(tipo):\n",
    "    if tipo == \"coche\":\n",
    "        return Coche()\n",
    "    elif tipo == \"bicicleta\":\n",
    "        return Bicicleta()\n",
    "    else:\n",
    "        raise ValueError(\"Tipo desconocido\")\n",
    "\n",
    "v = vehiculo_factory(\"coche\")\n",
    "print(v.mover())\n"
   ]
  },
  {
   "cell_type": "markdown",
   "id": "bea26831",
   "metadata": {},
   "source": [
    "\n",
    "## Ejercicio 1: Simple Factory\n",
    "\n",
    "Crea una función `animal_factory(tipo)` que devuelva un objeto `Perro` o `Gato` según el parámetro.\n"
   ]
  },
  {
   "cell_type": "code",
   "execution_count": null,
   "id": "d6f7a1ef",
   "metadata": {},
   "outputs": [
    {
     "name": "stdout",
     "output_type": "stream",
     "text": [
      "Guau | Miau\n"
     ]
    }
   ],
   "source": [
    "\n",
    "class Animal:\n",
    "    def sonido(self):\n",
    "        pass\n",
    "\n",
    "class Perro(Animal):\n",
    "    \n",
    "\n",
    "class Gato(Animal):\n",
    "   \n",
    "\n",
    "def animal_factory(tipo):\n",
    "   \n",
    "\n",
    "a1 = animal_factory(\"perro\")\n",
    "a2 = animal_factory(\"gato\")\n",
    "print(a1.sonido(), \"|\", a2.sonido())\n"
   ]
  },
  {
   "cell_type": "markdown",
   "id": "2fdd7098",
   "metadata": {},
   "source": [
    "## Ejemplo: Factory Method"
   ]
  },
  {
   "cell_type": "code",
   "execution_count": 3,
   "id": "cb28c4b7",
   "metadata": {},
   "outputs": [
    {
     "name": "stdout",
     "output_type": "stream",
     "text": [
      "[Windows Button]\n",
      "<button>Web Button</button>\n"
     ]
    }
   ],
   "source": [
    "\n",
    "from abc import ABC, abstractmethod\n",
    "\n",
    "class Dialogo(ABC):\n",
    "    @abstractmethod\n",
    "    def crear_boton(self):\n",
    "        pass\n",
    "\n",
    "    def renderizar(self):\n",
    "        boton = self.crear_boton()\n",
    "        return boton.pintar()\n",
    "\n",
    "class DialogoWindows(Dialogo):\n",
    "    def crear_boton(self):\n",
    "        return BotonWindows()\n",
    "\n",
    "class DialogoWeb(Dialogo):\n",
    "    def crear_boton(self):\n",
    "        return BotonHTML()\n",
    "\n",
    "class Boton(ABC):\n",
    "    @abstractmethod\n",
    "    def pintar(self):\n",
    "        pass\n",
    "\n",
    "class BotonWindows(Boton):\n",
    "    def pintar(self):\n",
    "        return \"[Windows Button]\"\n",
    "\n",
    "class BotonHTML(Boton):\n",
    "    def pintar(self):\n",
    "        return \"<button>Web Button</button>\"\n",
    "\n",
    "d = DialogoWindows()\n",
    "print(d.renderizar())\n",
    "\n",
    "d2 = DialogoWeb()\n",
    "print(d2.renderizar())\n"
   ]
  },
  {
   "cell_type": "markdown",
   "id": "6d0f1782",
   "metadata": {},
   "source": [
    "\n",
    "## Ejercicio 2: Factory Method\n",
    "\n",
    "Crea una clase abstracta `Mensaje` con método `crear_saludo()`, y dos subclases: `MensajeFormal` y `MensajeInformal`.\n"
   ]
  },
  {
   "cell_type": "code",
   "execution_count": null,
   "id": "821ca3cb",
   "metadata": {},
   "outputs": [
    {
     "name": "stdout",
     "output_type": "stream",
     "text": [
      "Estimado usuario\n",
      "¡Hola!\n"
     ]
    }
   ],
   "source": [
    "\n",
    "class Mensaje(ABC):\n",
    "    @abstractmethod\n",
    "    def crear_saludo(self):\n",
    "        pass\n",
    "\n",
    "def enviar_mensaje(obj):\n",
    "    print(obj.crear_saludo())\n",
    "\n",
    "class MensajeFormal(Mensaje):\n",
    "   \n",
    "\n",
    "class MensajeInformal(Mensaje):\n",
    "\n",
    "\n",
    "enviar_mensaje(MensajeFormal())\n",
    "enviar_mensaje(MensajeInformal())\n"
   ]
  },
  {
   "cell_type": "markdown",
   "id": "071706e4",
   "metadata": {},
   "source": [
    "## Ejemplo: Abstract Factory"
   ]
  },
  {
   "cell_type": "code",
   "execution_count": null,
   "id": "7c9552b2",
   "metadata": {},
   "outputs": [],
   "source": [
    "\n",
    "class WidgetFactory(ABC):\n",
    "    @abstractmethod\n",
    "    def crear_boton(self): pass\n",
    "    @abstractmethod\n",
    "    def crear_campo_texto(self): pass\n",
    "\n",
    "class LightFactory(WidgetFactory):\n",
    "    def crear_boton(self): return LightButton()\n",
    "    def crear_campo_texto(self): return LightText()\n",
    "\n",
    "class DarkFactory(WidgetFactory):\n",
    "    def crear_boton(self): return DarkButton()\n",
    "    def crear_campo_texto(self): return DarkText()\n",
    "\n",
    "class Button(ABC):\n",
    "    @abstractmethod\n",
    "    def render(self): pass\n",
    "\n",
    "class LightButton(Button):\n",
    "    def render(self): return \"[Light Button]\"\n",
    "\n",
    "class DarkButton(Button):\n",
    "    def render(self): return \"[Dark Button]\"\n",
    "\n",
    "class Text(ABC):\n",
    "    @abstractmethod\n",
    "    def render(self): pass\n",
    "\n",
    "class LightText(Text):\n",
    "    def render(self): return \"[Light Text Field]\"\n",
    "\n",
    "class DarkText(Text):\n",
    "    def render(self): return \"[Dark Text Field]\"\n",
    "\n",
    "def render_ui(factory):\n",
    "    btn = factory.crear_boton()\n",
    "    txt = factory.crear_campo_texto()\n",
    "    print(btn.render(), txt.render())\n",
    "\n",
    "render_ui(LightFactory())\n",
    "render_ui(DarkFactory())\n"
   ]
  },
  {
   "cell_type": "markdown",
   "id": "f493460e",
   "metadata": {},
   "source": [
    "\n",
    "## Ejercicio 3: Abstract Factory\n",
    "\n",
    "Crea una Abstract Factory `PizzaFactory` con métodos `crear_masa()` y `crear_salsa()`.\n",
    "Implementa las fábricas `ItalianaFactory` y `AmericanaFactory`.\n"
   ]
  },
  {
   "cell_type": "code",
   "execution_count": 5,
   "id": "a1e6d2c3",
   "metadata": {},
   "outputs": [
    {
     "name": "stdout",
     "output_type": "stream",
     "text": [
      "Pizza con masa fina y salsa pomodoro\n",
      "Pizza con masa gruesa y salsa barbacoa\n"
     ]
    }
   ],
   "source": [
    "\n",
    "class Masa(ABC):\n",
    "    @abstractmethod\n",
    "    def tipo(self): pass\n",
    "\n",
    "class Fina(Masa):\n",
    "    def tipo(self): return \"fina\"\n",
    "\n",
    "class Gruesa(Masa):\n",
    "    def tipo(self): return \"gruesa\"\n",
    "\n",
    "class Salsa(ABC):\n",
    "    @abstractmethod\n",
    "    def tipo(self): pass\n",
    "\n",
    "class Pomodoro(Salsa):\n",
    "    def tipo(self): return \"pomodoro\"\n",
    "\n",
    "class Barbacoa(Salsa):\n",
    "    def tipo(self): return \"barbacoa\"\n",
    "\n",
    "class PizzaFactory(ABC):\n",
    "    @abstractmethod\n",
    "    def crear_masa(self): pass\n",
    "    @abstractmethod\n",
    "    def crear_salsa(self): pass\n",
    "\n",
    "class ItalianaFactory(PizzaFactory):\n",
    "    def crear_masa(self): return Fina()\n",
    "    def crear_salsa(self): return Pomodoro()\n",
    "\n",
    "class AmericanaFactory(PizzaFactory):\n",
    "    def crear_masa(self): return Gruesa()\n",
    "    def crear_salsa(self): return Barbacoa()\n",
    "\n",
    "def preparar_pizza(factory):\n",
    "    masa = factory.crear_masa()\n",
    "    salsa = factory.crear_salsa()\n",
    "    print(f\"Pizza con masa {masa.tipo()} y salsa {salsa.tipo()}\")\n",
    "\n",
    "preparar_pizza(ItalianaFactory())\n",
    "preparar_pizza(AmericanaFactory())\n"
   ]
  },
  {
   "cell_type": "markdown",
   "id": "f5839fd5",
   "metadata": {},
   "source": [
    "\n",
    "# Resumen del Notebook\n",
    "\n",
    "- Simple Factory: una función/fábrica simple centralizada.\n",
    "- Factory Method: la subclase decide el producto.\n",
    "- Abstract Factory: creación de familias de objetos relacionados.\n",
    "\n",
    "Patrones que permiten extender el código sin tocar el cliente.\n"
   ]
  }
 ],
 "metadata": {
  "kernelspec": {
   "display_name": ".venv",
   "language": "python",
   "name": "python3"
  },
  "language_info": {
   "codemirror_mode": {
    "name": "ipython",
    "version": 3
   },
   "file_extension": ".py",
   "mimetype": "text/x-python",
   "name": "python",
   "nbconvert_exporter": "python",
   "pygments_lexer": "ipython3",
   "version": "3.13.5"
  }
 },
 "nbformat": 4,
 "nbformat_minor": 5
}
