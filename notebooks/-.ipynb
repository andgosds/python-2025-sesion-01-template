{
 "cells": [
  {
   "cell_type": "code",
   "execution_count": null,
   "id": "5858700b",
   "metadata": {},
   "outputs": [],
   "source": [
    "@app.route(\"/hi/<who>\")\n",
    "def greet(who):\n",
    "    return jsonify(f\"Hello {who}\")\n"
   ]
  },
  {
   "cell_type": "code",
   "execution_count": null,
   "id": "18cee9aa",
   "metadata": {},
   "outputs": [],
   "source": [
    "@app.get(\"/hi/{who}\")\n",
    "def greet(who: str):\n",
    "    return f\"Hello {who}\"\n"
   ]
  },
  {
   "cell_type": "code",
   "execution_count": null,
   "id": "8cbb7fd6",
   "metadata": {},
   "outputs": [],
   "source": [
    "GET /users/5        → Obtener usuario con id 5\n",
    "POST /users         → Crear un nuevo usuario\n",
    "PUT /users/5        → Actualizar el usuario 5\n",
    "DELETE /users/5     → Borrar el usuario 5\n"
   ]
  }
 ],
 "metadata": {
  "language_info": {
   "name": "python"
  }
 },
 "nbformat": 4,
 "nbformat_minor": 5
}
