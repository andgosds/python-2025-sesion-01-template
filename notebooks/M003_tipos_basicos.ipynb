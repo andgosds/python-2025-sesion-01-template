{
 "cells": [
  {
   "cell_type": "markdown",
   "id": "4088100b",
   "metadata": {},
   "source": [
    "\n",
    "# Tipos Básicos en Python 🐍\n",
    "\n",
    "En este notebook aprenderás sobre:\n",
    "\n",
    "- Números\n",
    "- Cadenas\n",
    "- Listas y Tuplas\n",
    "- Conjuntos\n",
    "- Diccionarios\n",
    "- None\n",
    "- Conversión de tipos\n",
    "- Mutabilidad\n",
    "\n",
    "Cada sección incluye ejemplos y ejercicios con su solución.\n"
   ]
  },
  {
   "cell_type": "markdown",
   "id": "65a413d0",
   "metadata": {},
   "source": [
    "\n",
    "## 1. Números\n",
    "\n",
    "Tipos principales:\n",
    "- `int`\n",
    "- `float`\n",
    "- `complex`\n",
    "- `bool` (subtipo de `int`)\n"
   ]
  },
  {
   "cell_type": "code",
   "execution_count": 1,
   "id": "45d12492",
   "metadata": {},
   "outputs": [
    {
     "name": "stdout",
     "output_type": "stream",
     "text": [
      "<class 'int'> <class 'float'> <class 'complex'> <class 'bool'>\n"
     ]
    }
   ],
   "source": [
    "\n",
    "a = 10\n",
    "b = 3.5\n",
    "c = 2 + 3j\n",
    "d = True\n",
    "\n",
    "print(type(a), type(b), type(c), type(d))\n"
   ]
  },
  {
   "cell_type": "markdown",
   "id": "0390bb98",
   "metadata": {},
   "source": [
    "\n",
    "### Ejercicio 1:\n",
    "Calcula:\n",
    "- La suma de 7 y 3.\n",
    "- La división entera de 10 entre 4.\n",
    "- La potencia de 2^6.\n"
   ]
  },
  {
   "cell_type": "code",
   "execution_count": null,
   "id": "678f7972",
   "metadata": {},
   "outputs": [],
   "source": [
    "\n"
   ]
  },
  {
   "cell_type": "markdown",
   "id": "12fb9322",
   "metadata": {},
   "source": [
    "\n",
    "## 2. Cadenas (`str`)\n",
    "\n",
    "- Inmutables\n",
    "- Métodos comunes: `.upper()`, `.lower()`, `.replace()`, etc.\n"
   ]
  },
  {
   "cell_type": "code",
   "execution_count": 3,
   "id": "546047b8",
   "metadata": {},
   "outputs": [
    {
     "name": "stdout",
     "output_type": "stream",
     "text": [
      "PYTHON ES DIVERTIDO\n",
      "Python\n"
     ]
    }
   ],
   "source": [
    "\n",
    "texto = \"Python es divertido\"\n",
    "print(texto.upper())\n",
    "print(texto[0:6])\n"
   ]
  },
  {
   "cell_type": "markdown",
   "id": "81cb7f42",
   "metadata": {},
   "source": [
    "\n",
    "### Ejercicio 2:\n",
    "Dada la cadena `\"Hola Mundo\"`, obtén la palabra `\"Mundo\"` y conviértela a mayúsculas.\n"
   ]
  },
  {
   "cell_type": "code",
   "execution_count": null,
   "id": "6b739cb7",
   "metadata": {},
   "outputs": [
    {
     "name": "stdout",
     "output_type": "stream",
     "text": [
      "MUNDO\n"
     ]
    }
   ],
   "source": [
    "\n",
    "\n"
   ]
  },
  {
   "cell_type": "markdown",
   "id": "a0c3bc9e",
   "metadata": {},
   "source": [
    "\n",
    "## 3. Listas y Tuplas\n",
    "\n",
    "- Listas: mutables\n",
    "- Tuplas: inmutables\n"
   ]
  },
  {
   "cell_type": "code",
   "execution_count": 5,
   "id": "8cdea591",
   "metadata": {},
   "outputs": [
    {
     "name": "stdout",
     "output_type": "stream",
     "text": [
      "[1, 2, 3, 4]\n",
      "6\n"
     ]
    }
   ],
   "source": [
    "\n",
    "lista = [1, 2, 3]\n",
    "lista.append(4)\n",
    "print(lista)\n",
    "\n",
    "tupla = (5, 6, 7)\n",
    "print(tupla[1])\n"
   ]
  },
  {
   "cell_type": "markdown",
   "id": "9d4446a9",
   "metadata": {},
   "source": [
    "\n",
    "### Ejercicio 3:\n",
    "Crea una lista con los números del 1 al 5 y conviértela en una tupla.\n"
   ]
  },
  {
   "cell_type": "code",
   "execution_count": null,
   "id": "c31781d9",
   "metadata": {},
   "outputs": [
    {
     "name": "stdout",
     "output_type": "stream",
     "text": [
      "[1, 2, 3, 4, 5]\n",
      "(1, 2, 3, 4, 5)\n"
     ]
    }
   ],
   "source": [
    "\n",
    "\n"
   ]
  },
  {
   "cell_type": "markdown",
   "id": "2a87f760",
   "metadata": {},
   "source": [
    "\n",
    "## 4. Conjuntos (`set`)\n",
    "\n",
    "- Almacenan elementos únicos.\n",
    "- Permiten operaciones como unión, intersección, etc.\n"
   ]
  },
  {
   "cell_type": "code",
   "execution_count": 7,
   "id": "3540945c",
   "metadata": {},
   "outputs": [
    {
     "name": "stdout",
     "output_type": "stream",
     "text": [
      "{1, 2, 3, 4}\n"
     ]
    }
   ],
   "source": [
    "\n",
    "datos = [1, 2, 2, 3, 4, 4]\n",
    "print(set(datos))\n"
   ]
  },
  {
   "cell_type": "markdown",
   "id": "bdb07299",
   "metadata": {},
   "source": [
    "\n",
    "### Ejercicio 4:\n",
    "Dada la lista `[1,2,3,1,2,4]`, crea un conjunto y muestra su longitud.\n"
   ]
  },
  {
   "cell_type": "code",
   "execution_count": null,
   "id": "c9113d79",
   "metadata": {},
   "outputs": [
    {
     "name": "stdout",
     "output_type": "stream",
     "text": [
      "{1, 2, 3, 4}\n",
      "4\n"
     ]
    }
   ],
   "source": [
    "\n"
   ]
  },
  {
   "cell_type": "markdown",
   "id": "8a18f5df",
   "metadata": {},
   "source": [
    "\n",
    "## 5. Diccionarios (`dict`)\n",
    "\n",
    "- Estructura clave-valor.\n"
   ]
  },
  {
   "cell_type": "code",
   "execution_count": 9,
   "id": "909763b2",
   "metadata": {},
   "outputs": [
    {
     "name": "stdout",
     "output_type": "stream",
     "text": [
      "Ana\n"
     ]
    }
   ],
   "source": [
    "\n",
    "persona = {\"nombre\": \"Ana\", \"edad\": 28}\n",
    "print(persona[\"nombre\"])\n"
   ]
  },
  {
   "cell_type": "markdown",
   "id": "a1356e2b",
   "metadata": {},
   "source": [
    "\n",
    "### Ejercicio 5:\n",
    "Crea un diccionario que represente un libro con título, autor y año.\n"
   ]
  },
  {
   "cell_type": "code",
   "execution_count": null,
   "id": "e070b418",
   "metadata": {},
   "outputs": [
    {
     "name": "stdout",
     "output_type": "stream",
     "text": [
      "{'titulo': '1984', 'autor': 'Orwell', 'año': 1949}\n"
     ]
    }
   ],
   "source": [
    "\n"
   ]
  },
  {
   "cell_type": "markdown",
   "id": "5d820fee",
   "metadata": {},
   "source": [
    "\n",
    "## 6. El valor `None`\n",
    "\n",
    "Indica ausencia de valor.\n"
   ]
  },
  {
   "cell_type": "code",
   "execution_count": 11,
   "id": "72347c39",
   "metadata": {},
   "outputs": [
    {
     "name": "stdout",
     "output_type": "stream",
     "text": [
      "True\n"
     ]
    }
   ],
   "source": [
    "\n",
    "x = None\n",
    "print(x is None)\n"
   ]
  },
  {
   "cell_type": "markdown",
   "id": "7feb2023",
   "metadata": {},
   "source": [
    "\n",
    "## 7. Conversión de tipos\n",
    "\n",
    "Convertir entre `int`, `float`, `str`, `list`, etc.\n"
   ]
  },
  {
   "cell_type": "code",
   "execution_count": 12,
   "id": "8250d3bf",
   "metadata": {},
   "outputs": [
    {
     "name": "stdout",
     "output_type": "stream",
     "text": [
      "15\n"
     ]
    }
   ],
   "source": [
    "\n",
    "s = \"10\"\n",
    "n = int(s)\n",
    "print(n + 5)\n"
   ]
  },
  {
   "cell_type": "markdown",
   "id": "f3d96fa3",
   "metadata": {},
   "source": [
    "\n",
    "### Ejercicio 6:\n",
    "Convierte `[\"1\", \"2\", \"3\"]` a una lista de enteros.\n"
   ]
  },
  {
   "cell_type": "code",
   "execution_count": null,
   "id": "5348a150",
   "metadata": {},
   "outputs": [
    {
     "name": "stdout",
     "output_type": "stream",
     "text": [
      "[1, 2, 3]\n"
     ]
    }
   ],
   "source": [
    "\n",
    "\n"
   ]
  },
  {
   "cell_type": "markdown",
   "id": "23191725",
   "metadata": {},
   "source": [
    "\n",
    "## 8. Mutabilidad vs Inmutabilidad\n",
    "\n",
    "- Listas: mutables.\n",
    "- Tuplas y cadenas: inmutables.\n"
   ]
  },
  {
   "cell_type": "code",
   "execution_count": 14,
   "id": "2eae4eef",
   "metadata": {},
   "outputs": [
    {
     "name": "stdout",
     "output_type": "stream",
     "text": [
      "[99, 2, 3]\n"
     ]
    }
   ],
   "source": [
    "\n",
    "mi_lista = [1, 2, 3]\n",
    "mi_lista[0] = 99\n",
    "print(mi_lista)\n"
   ]
  },
  {
   "cell_type": "markdown",
   "id": "0a025e6f",
   "metadata": {},
   "source": [
    "\n",
    "## ✅ Resumen final\n",
    "\n",
    "En este notebook has visto:\n",
    "- Números\n",
    "- Cadenas\n",
    "- Listas y tuplas\n",
    "- Conjuntos\n",
    "- Diccionarios\n",
    "- None\n",
    "- Conversión de tipos\n",
    "- Mutabilidad\n",
    "\n",
    "Practicar cada uno te ayudará a dominar los fundamentos de Python.\n"
   ]
  }
 ],
 "metadata": {
  "kernelspec": {
   "display_name": ".venv",
   "language": "python",
   "name": "python3"
  },
  "language_info": {
   "codemirror_mode": {
    "name": "ipython",
    "version": 3
   },
   "file_extension": ".py",
   "mimetype": "text/x-python",
   "name": "python",
   "nbconvert_exporter": "python",
   "pygments_lexer": "ipython3",
   "version": "3.13.5"
  }
 },
 "nbformat": 4,
 "nbformat_minor": 5
}
