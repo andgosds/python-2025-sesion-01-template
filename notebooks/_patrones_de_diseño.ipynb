{
 "cells": [
  {
   "cell_type": "markdown",
   "id": "d62c9ced",
   "metadata": {},
   "source": [
    "## Singleton"
   ]
  },
  {
   "cell_type": "code",
   "execution_count": null,
   "id": "84174bef",
   "metadata": {},
   "outputs": [],
   "source": [
    "class Singleton:\n",
    "    _instancia = None\n",
    "\n",
    "    def __new__(cls):\n",
    "        if cls._instancia is None:\n",
    "            cls._instancia = super().__new__(cls)\n",
    "        return cls._instancia\n"
   ]
  },
  {
   "cell_type": "markdown",
   "id": "22ca5e67",
   "metadata": {},
   "source": [
    "## Factory"
   ]
  },
  {
   "cell_type": "markdown",
   "id": "33cca913",
   "metadata": {},
   "source": []
  },
  {
   "cell_type": "code",
   "execution_count": null,
   "id": "5c1b2e79",
   "metadata": {},
   "outputs": [],
   "source": []
  },
  {
   "cell_type": "markdown",
   "id": "1819659c",
   "metadata": {},
   "source": [
    "## Builder"
   ]
  },
  {
   "cell_type": "code",
   "execution_count": 3,
   "id": "785d1cf3",
   "metadata": {},
   "outputs": [],
   "source": [
    "class Pedido:\n",
    "    def __init__(self, lineas):\n",
    "        self.lineas = lineas\n",
    "\n",
    "    def total(self):\n",
    "        return sum(linea['precio'] * linea['cantidad'] for linea in self.lineas)\n",
    "\n",
    "    def __str__(self):\n",
    "        return f\"Pedido con {len(self.lineas)} productos, total: {self.total():.2f} €\"\n",
    "\n",
    "\n",
    "class PedidoBuilder:\n",
    "    def __init__(self):\n",
    "        self._lineas = []\n",
    "\n",
    "    def agregar_producto(self, descripcion, cantidad, precio):\n",
    "        self._lineas.append({\n",
    "            \"descripcion\": descripcion,\n",
    "            \"cantidad\": cantidad,\n",
    "            \"precio\": precio\n",
    "        })\n",
    "        return self\n",
    "\n",
    "    def build(self):\n",
    "        return Pedido(self._lineas)\n"
   ]
  },
  {
   "cell_type": "code",
   "execution_count": 5,
   "id": "6c300be4",
   "metadata": {},
   "outputs": [
    {
     "name": "stdout",
     "output_type": "stream",
     "text": [
      "Pedido con 2 productos, total: 5.00 €\n"
     ]
    }
   ],
   "source": [
    "builder = PedidoBuilder()\n",
    "pedido = (\n",
    "    builder\n",
    "    .agregar_producto(\"Pan\", 2, 1.5)\n",
    "    .agregar_producto(\"Leche\", 1, 2.0)\n",
    "    .build()\n",
    ")\n",
    "\n",
    "print(pedido)\n",
    "# → Pedido con 2 productos, total: 5.00 €\n"
   ]
  },
  {
   "cell_type": "markdown",
   "id": "7dee6ed1",
   "metadata": {},
   "source": [
    "- El Builder separa la construcción del objeto de su representación o lógica interna.\n",
    "\n",
    "- Puedes añadir validaciones en build() (por ejemplo, no permitir pedidos vacíos).\n",
    "\n",
    "- Es ideal cuando los objetos tienen muchos campos opcionales, o se construyen en pasos."
   ]
  },
  {
   "cell_type": "markdown",
   "id": "469a0768",
   "metadata": {},
   "source": [
    "Refactoriza el siguiente código para:\n",
    "\n",
    "- Crear una fábrica de pagos.\n",
    "- Usar un singleton para la configuración de API keys."
   ]
  },
  {
   "cell_type": "markdown",
   "id": "07390c33",
   "metadata": {},
   "source": []
  },
  {
   "cell_type": "code",
   "execution_count": null,
   "id": "d2eb901d",
   "metadata": {},
   "outputs": [],
   "source": [
    "def pagar(tipo, datos):\n",
    "    if tipo == \"paypal\":\n",
    "        return f\"Pagando con PayPal: {datos}\"\n",
    "    elif tipo == \"stripe\":\n",
    "        return f\"Pagando con Stripe: {datos}\"\n"
   ]
  },
  {
   "cell_type": "markdown",
   "id": "61afc7f5",
   "metadata": {},
   "source": [
    "Refactor: aplicando Factory + Singleton\n",
    "1. Definimos una clase base y las estrategias de pago"
   ]
  },
  {
   "cell_type": "code",
   "execution_count": 6,
   "id": "a4534527",
   "metadata": {},
   "outputs": [],
   "source": [
    "from abc import ABC, abstractmethod\n",
    "\n",
    "class Pago(ABC):\n",
    "    @abstractmethod\n",
    "    def procesar(self, datos):\n",
    "        pass\n",
    "\n",
    "class PagoPaypal(Pago):\n",
    "    def procesar(self, datos):\n",
    "        return f\"[PayPal] Pago procesado con datos: {datos}\"\n",
    "\n",
    "class PagoStripe(Pago):\n",
    "    def procesar(self, datos):\n",
    "        return f\"[Stripe] Pago procesado con datos: {datos}\"\n"
   ]
  },
  {
   "cell_type": "markdown",
   "id": "d2b0e829",
   "metadata": {},
   "source": [
    "2. Creamos una fábrica de pagos\n"
   ]
  },
  {
   "cell_type": "code",
   "execution_count": 7,
   "id": "66ae0a00",
   "metadata": {},
   "outputs": [],
   "source": [
    "class FabricaPago:\n",
    "    _mapeo = {\n",
    "        \"paypal\": PagoPaypal,\n",
    "        \"stripe\": PagoStripe\n",
    "    }\n",
    "\n",
    "    @staticmethod\n",
    "    def crear(metodo: str) -> Pago:\n",
    "        clase = FabricaPago._mapeo.get(metodo.lower())\n",
    "        if not clase:\n",
    "            raise ValueError(f\"Método de pago no soportado: {metodo}\")\n",
    "        return clase()\n"
   ]
  },
  {
   "cell_type": "markdown",
   "id": "e4a470b0",
   "metadata": {},
   "source": [
    "3. Añadimos un Singleton para configuración"
   ]
  },
  {
   "cell_type": "code",
   "execution_count": 8,
   "id": "7436ccb4",
   "metadata": {},
   "outputs": [],
   "source": [
    "class ConfiguracionPago:\n",
    "    _instancia = None\n",
    "\n",
    "    def __new__(cls):\n",
    "        if not cls._instancia:\n",
    "            cls._instancia = super().__new__(cls)\n",
    "            cls._instancia.api_keys = {\n",
    "                \"paypal\": \"API_KEY_PAYPAL\",\n",
    "                \"stripe\": \"API_KEY_STRIPE\"\n",
    "            }\n",
    "        return cls._instancia\n"
   ]
  },
  {
   "cell_type": "markdown",
   "id": "fe0dd569",
   "metadata": {},
   "source": [
    "4. Función principal pagar() usando la fábrica"
   ]
  },
  {
   "cell_type": "code",
   "execution_count": 9,
   "id": "897ff8d0",
   "metadata": {},
   "outputs": [],
   "source": [
    "def pagar(metodo: str, datos: dict):\n",
    "    pago = FabricaPago.crear(metodo)\n",
    "    config = ConfiguracionPago()\n",
    "    datos[\"api_key\"] = config.api_keys.get(metodo)\n",
    "    return pago.procesar(datos)\n"
   ]
  },
  {
   "cell_type": "markdown",
   "id": "78dc368b",
   "metadata": {},
   "source": [
    "5. Ejemplo de uso"
   ]
  },
  {
   "cell_type": "code",
   "execution_count": null,
   "id": "d902c275",
   "metadata": {},
   "outputs": [
    {
     "name": "stdout",
     "output_type": "stream",
     "text": [
      "[PayPal] Pago procesado con datos: {'cliente': 'Andrés', 'importe': 42, 'api_key': 'API_KEY_PAYPAL'}\n",
      "[Stripe] Pago procesado con datos: {'cliente': 'Marina', 'importe': 19.99, 'api_key': 'API_KEY_STRIPE'}\n"
     ]
    }
   ],
   "source": [
    "print(pagar(\"paypal\", {\"cliente\": \"Andrés\", \"importe\": 42}))\n",
    "\n",
    "print(pagar(\"stripe\", {\"cliente\": \"Marina\", \"importe\": 19.99}))\n"
   ]
  },
  {
   "cell_type": "markdown",
   "id": "a3801c02",
   "metadata": {},
   "source": [
    "Beneficios de la refactorización\n",
    "\n",
    "- Fácil de extender: solo añades una nueva clase PagoBizum y la registras en la fábrica.\n",
    "\n",
    "- Separación de responsabilidades: pagar() ya no sabe cómo se implementa cada método.\n",
    "\n",
    "- Testable y limpio: puedes testear cada clase por separado."
   ]
  },
  {
   "cell_type": "markdown",
   "id": "fd6bd4f9",
   "metadata": {},
   "source": []
  }
 ],
 "metadata": {
  "kernelspec": {
   "display_name": ".venv",
   "language": "python",
   "name": "python3"
  },
  "language_info": {
   "codemirror_mode": {
    "name": "ipython",
    "version": 3
   },
   "file_extension": ".py",
   "mimetype": "text/x-python",
   "name": "python",
   "nbconvert_exporter": "python",
   "pygments_lexer": "ipython3",
   "version": "3.13.5"
  }
 },
 "nbformat": 4,
 "nbformat_minor": 5
}
