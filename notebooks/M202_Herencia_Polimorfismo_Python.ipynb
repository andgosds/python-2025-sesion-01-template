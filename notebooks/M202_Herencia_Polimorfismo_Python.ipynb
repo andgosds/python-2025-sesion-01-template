{
 "cells": [
  {
   "cell_type": "markdown",
   "id": "dcee2cf9",
   "metadata": {},
   "source": [
    "\n",
    "# Herencia y Polimorfismo en Python\n",
    "\n",
    "En este notebook aprenderás:\n",
    "\n",
    "- Herencia simple y múltiple\n",
    "- Uso de `super()`\n",
    "- Polimorfismo\n",
    "- Clases abstractas (`ABC`)\n",
    "- Ejercicios prácticos con solución\n"
   ]
  },
  {
   "cell_type": "markdown",
   "id": "96cc8b1c",
   "metadata": {},
   "source": [
    "\n",
    "## ¿Por qué heredar?\n",
    "\n",
    "La herencia nos permite:\n",
    "\n",
    "- Reutilizar código.\n",
    "- Extender comportamientos.\n",
    "- Especializar clases existentes.\n"
   ]
  },
  {
   "cell_type": "markdown",
   "id": "8f4e7c6e",
   "metadata": {},
   "source": [
    "\n",
    "## 1. Herencia simple\n"
   ]
  },
  {
   "cell_type": "code",
   "execution_count": 1,
   "id": "0db1f259",
   "metadata": {},
   "outputs": [
    {
     "name": "stdout",
     "output_type": "stream",
     "text": [
      "Guau\n"
     ]
    }
   ],
   "source": [
    "\n",
    "class Animal:\n",
    "    def sonido(self):\n",
    "        print(\"Hace un sonido genérico\")\n",
    "\n",
    "class Perro(Animal):\n",
    "    def sonido(self):\n",
    "        print(\"Guau\")\n",
    "\n",
    "p = Perro()\n",
    "p.sonido()\n"
   ]
  },
  {
   "cell_type": "markdown",
   "id": "ae25852f",
   "metadata": {},
   "source": [
    "\n",
    "### Ejercicio 1: Herencia simple\n",
    "\n",
    "Crea una clase `Vehiculo` con un método `mover()` que imprima `\"El vehículo se mueve\"`  \n",
    "y una clase `Auto` que sobrescriba ese método con `\"El auto avanza sobre ruedas\"`.\n"
   ]
  },
  {
   "cell_type": "code",
   "execution_count": null,
   "id": "b664ea33",
   "metadata": {},
   "outputs": [
    {
     "name": "stdout",
     "output_type": "stream",
     "text": [
      "El auto avanza sobre ruedas\n"
     ]
    }
   ],
   "source": [
    "\n"
   ]
  },
  {
   "cell_type": "markdown",
   "id": "6a00733d",
   "metadata": {},
   "source": [
    "\n",
    "## 2. Herencia múltiple y MRO (Method Resolution Order)\n"
   ]
  },
  {
   "cell_type": "code",
   "execution_count": 3,
   "id": "da3e1f36",
   "metadata": {},
   "outputs": [
    {
     "name": "stdout",
     "output_type": "stream",
     "text": [
      "Volando\n",
      "(<class '__main__.Pato'>, <class '__main__.Volador'>, <class '__main__.Nadador'>, <class 'object'>)\n"
     ]
    }
   ],
   "source": [
    "\n",
    "class Volador:\n",
    "    def mover(self):\n",
    "        print(\"Volando\")\n",
    "\n",
    "class Nadador:\n",
    "    def mover(self):\n",
    "        print(\"Nadando\")\n",
    "\n",
    "class Pato(Volador, Nadador):\n",
    "    pass\n",
    "\n",
    "p = Pato()\n",
    "p.mover()\n",
    "print(Pato.__mro__)\n"
   ]
  },
  {
   "cell_type": "markdown",
   "id": "8d87d6ff",
   "metadata": {},
   "source": [
    "\n",
    "### Ejercicio 2: Herencia múltiple\n",
    "\n",
    "Crea las siguientes clases:\n",
    "\n",
    "- `Radio` con un método `encender_radio()`\n",
    "- `GPS` con un método `mostrar_ruta()`\n",
    "- `RadioGPSCar` que herede de ambas.\n",
    "\n",
    "Luego, crea una instancia de `RadioGPSCar` y llama a ambos métodos.\n"
   ]
  },
  {
   "cell_type": "code",
   "execution_count": null,
   "id": "d20dc218",
   "metadata": {},
   "outputs": [
    {
     "name": "stdout",
     "output_type": "stream",
     "text": [
      "Radio encendida\n",
      "Mostrando ruta\n"
     ]
    }
   ],
   "source": [
    "\n"
   ]
  },
  {
   "cell_type": "markdown",
   "id": "d8c03034",
   "metadata": {},
   "source": [
    "\n",
    "## 3. Polimorfismo básico\n"
   ]
  },
  {
   "cell_type": "code",
   "execution_count": 5,
   "id": "0721e066",
   "metadata": {},
   "outputs": [
    {
     "name": "stdout",
     "output_type": "stream",
     "text": [
      "Guau\n",
      "Miau\n"
     ]
    }
   ],
   "source": [
    "\n",
    "class Perro:\n",
    "    def hablar(self):\n",
    "        return \"Guau\"\n",
    "\n",
    "class Gato:\n",
    "    def hablar(self):\n",
    "        return \"Miau\"\n",
    "\n",
    "def hacer_hablar(animal):\n",
    "    print(animal.hablar())\n",
    "\n",
    "hacer_hablar(Perro())\n",
    "hacer_hablar(Gato())\n"
   ]
  },
  {
   "cell_type": "markdown",
   "id": "9f171fd8",
   "metadata": {},
   "source": [
    "\n",
    "### Ejercicio 3: Polimorfismo con figuras\n",
    "\n",
    "Crea una clase `Figura` con método `area()`. Luego subclases:\n",
    "\n",
    "- `Cuadrado` que calcule área de un lado.\n",
    "- `Circulo` que calcule área usando `pi`.\n",
    "\n",
    "Recorre una lista de figuras y llama a `.area()` en cada una.\n"
   ]
  },
  {
   "cell_type": "code",
   "execution_count": null,
   "id": "b9eafff1",
   "metadata": {},
   "outputs": [
    {
     "name": "stdout",
     "output_type": "stream",
     "text": [
      "9\n",
      "12.566370614359172\n"
     ]
    }
   ],
   "source": [
    "\n"
   ]
  },
  {
   "cell_type": "markdown",
   "id": "b410fdd5",
   "metadata": {},
   "source": [
    "\n",
    "## 4. Clases abstractas (ABC)\n"
   ]
  },
  {
   "cell_type": "code",
   "execution_count": 7,
   "id": "9adbd8d7",
   "metadata": {},
   "outputs": [
    {
     "name": "stdout",
     "output_type": "stream",
     "text": [
      "Conectando a SQLite\n",
      "Ejecutando: SELECT * FROM tabla\n"
     ]
    }
   ],
   "source": [
    "\n",
    "from abc import ABC, abstractmethod\n",
    "\n",
    "class BaseDB(ABC):\n",
    "    @abstractmethod\n",
    "    def conectar(self):\n",
    "        pass\n",
    "\n",
    "    @abstractmethod\n",
    "    def consultar(self, sql):\n",
    "        pass\n",
    "\n",
    "class SQLiteDB(BaseDB):\n",
    "    def conectar(self):\n",
    "        print(\"Conectando a SQLite\")\n",
    "    def consultar(self, sql):\n",
    "        print(f\"Ejecutando: {sql}\")\n",
    "\n",
    "db = SQLiteDB()\n",
    "db.conectar()\n",
    "db.consultar(\"SELECT * FROM tabla\")\n"
   ]
  },
  {
   "cell_type": "markdown",
   "id": "efbc90b5",
   "metadata": {},
   "source": [
    "\n",
    "### Ejercicio 4: ABC y bases de datos\n",
    "\n",
    "Crea una clase abstracta `BaseDB` con métodos abstractos `conectar()` y `consultar()`.  \n",
    "Luego crea una subclase `PostgresDB` que implemente ambos métodos.\n"
   ]
  },
  {
   "cell_type": "code",
   "execution_count": null,
   "id": "7debfbae",
   "metadata": {},
   "outputs": [
    {
     "name": "stdout",
     "output_type": "stream",
     "text": [
      "Conectando a Postgres\n",
      "Postgres ejecuta: SELECT version();\n"
     ]
    }
   ],
   "source": [
    "\n",
    "\n"
   ]
  },
  {
   "cell_type": "markdown",
   "id": "313f7965",
   "metadata": {},
   "source": [
    "\n",
    "## 5. Duck Typing en Python\n",
    "\n",
    "No importa la clase, importa que el objeto tenga el método esperado.\n"
   ]
  },
  {
   "cell_type": "code",
   "execution_count": 9,
   "id": "2a5dcbf1",
   "metadata": {},
   "outputs": [
    {
     "name": "stdout",
     "output_type": "stream",
     "text": [
      "Pato nadando\n",
      "Persona nadando\n"
     ]
    }
   ],
   "source": [
    "\n",
    "class Pato:\n",
    "    def nadar(self):\n",
    "        print(\"Pato nadando\")\n",
    "\n",
    "class Persona:\n",
    "    def nadar(self):\n",
    "        print(\"Persona nadando\")\n",
    "\n",
    "def hacer_nadar(obj):\n",
    "    obj.nadar()\n",
    "\n",
    "hacer_nadar(Pato())\n",
    "hacer_nadar(Persona())\n"
   ]
  },
  {
   "cell_type": "markdown",
   "id": "ed135504",
   "metadata": {},
   "source": [
    "\n",
    "## ✅ Resumen\n",
    "\n",
    "En este notebook has practicado:\n",
    "\n",
    "- Herencia simple y múltiple\n",
    "- Polimorfismo\n",
    "- Uso de `super()`\n",
    "- Clases abstractas (ABC)\n",
    "- Duck Typing\n",
    "\n"
   ]
  },
  {
   "cell_type": "markdown",
   "id": "3c984803",
   "metadata": {},
   "source": []
  }
 ],
 "metadata": {
  "kernelspec": {
   "display_name": ".venv",
   "language": "python",
   "name": "python3"
  },
  "language_info": {
   "codemirror_mode": {
    "name": "ipython",
    "version": 3
   },
   "file_extension": ".py",
   "mimetype": "text/x-python",
   "name": "python",
   "nbconvert_exporter": "python",
   "pygments_lexer": "ipython3",
   "version": "3.13.5"
  }
 },
 "nbformat": 4,
 "nbformat_minor": 5
}
