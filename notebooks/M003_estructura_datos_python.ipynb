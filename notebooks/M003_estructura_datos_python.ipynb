{
 "cells": [
  {
   "cell_type": "markdown",
   "id": "0fdca9f7",
   "metadata": {
    "id": "0fdca9f7"
   },
   "source": [
    "# Estructuras de datos básicas en Python\n",
    "Este notebook resume las colecciones *built‑in* más usadas en Python, sus propiedades clave y ejemplos concisos de uso. Cada sección incluye una breve descripción conceptual, complejidades promedio y una demo interactiva."
   ]
  },
  {
   "cell_type": "markdown",
   "id": "b50cba56",
   "metadata": {
    "id": "b50cba56"
   },
   "source": [
    "## Contenido\n",
    "1. [List (`list`)](#List)\n",
    "2. [Tuple (`tuple`)](#Tuple)\n",
    "3. [Dict (`dict`)](#Dict)\n",
    "4. [Set (`set`)](#Set)\n",
    "5. [String (`str`)](#String)\n",
    "6. [Deque (`collections.deque`)](#Deque)\n",
    "7. [Resumen rápido](#Resumen)"
   ]
  },
  {
   "cell_type": "markdown",
   "id": "8ef1a21c",
   "metadata": {
    "id": "8ef1a21c"
   },
   "source": [
    "## <a id='List'></a>1. List (`list`)\n",
    "**Secuencia mutable y ordenada.**\n",
    "\n",
    "* Complejidades típicas (CPython ≥ 3.12):  \n",
    "  * `append`, `pop()` ⇒ **O(1) amortizado**  \n",
    "  * `insert`, `pop(i)` ⇒ **O(n)**  \n",
    "  * `in`, `index` ⇒ **O(n)**\n",
    "* Uso: pila (`append`/`pop`), matrices pequeñas, batching.\n"
   ]
  },
  {
   "cell_type": "code",
   "execution_count": 3,
   "id": "ed1adb47",
   "metadata": {
    "colab": {
     "base_uri": "https://localhost:8080/"
    },
    "executionInfo": {
     "elapsed": 31,
     "status": "ok",
     "timestamp": 1748886600310,
     "user": {
      "displayName": "Andres Gonzalez Sanchez",
      "userId": "16851361017637009623"
     },
     "user_tz": -120
    },
    "id": "ed1adb47",
    "outputId": "b8ec5d4d-a7b7-4673-8423-07d0ee7340b5"
   },
   "outputs": [
    {
     "name": "stdout",
     "output_type": "stream",
     "text": [
      "[1, 99, 3, 4]\n",
      "Contiene 2? False\n"
     ]
    }
   ],
   "source": [
    "# Ejemplo rápido\n",
    "nums = [1, 2, 3]\n",
    "nums.append(4)\n",
    "nums[1] = 99\n",
    "print(nums)\n",
    "print('Contiene 2?', 2 in nums)"
   ]
  },
  {
   "cell_type": "markdown",
   "id": "9211ecc0",
   "metadata": {
    "id": "9211ecc0"
   },
   "source": [
    "## <a id='Tuple'></a>2. Tuple (`tuple`)\n",
    "**Versión inmutable de la lista.**\n",
    "\n",
    "* Complejidad de acceso: **O(1)**  \n",
    "* Sus elementos se pueden usar como clave de `dict` si también son hashables.\n",
    "* Uso: retorno múltiple, registros ligeros, claves compuestas."
   ]
  },
  {
   "cell_type": "code",
   "execution_count": 4,
   "id": "34e66cb7",
   "metadata": {
    "colab": {
     "base_uri": "https://localhost:8080/"
    },
    "executionInfo": {
     "elapsed": 6,
     "status": "ok",
     "timestamp": 1748886612610,
     "user": {
      "displayName": "Andres Gonzalez Sanchez",
      "userId": "16851361017637009623"
     },
     "user_tz": -120
    },
    "id": "34e66cb7",
    "outputId": "7916e384-44b9-4d36-8299-98107a9b5efd"
   },
   "outputs": [
    {
     "name": "stdout",
     "output_type": "stream",
     "text": [
      "Madrid\n"
     ]
    }
   ],
   "source": [
    "# Ejemplo: claves compuestas\n",
    "data = {('ES', 'MAD'): 'Madrid', ('FR', 'PAR'): 'Paris'}\n",
    "print(data[('ES', 'MAD')])"
   ]
  },
  {
   "cell_type": "markdown",
   "id": "c8c275ed",
   "metadata": {
    "id": "c8c275ed"
   },
   "source": [
    "## <a id='Dict'></a>3. Dict (`dict`)\n",
    "**Mapa clave‑valor basado en hash‑table.**\n",
    "\n",
    "* Búsqueda/Inserción/Borrado promedio: **O(1)**  \n",
    "* Mantiene el orden de inserción desde Python 3.7.\n",
    "* Uso: caches, objetos JSON‑like, conteos (con `collections.Counter`)."
   ]
  },
  {
   "cell_type": "code",
   "execution_count": 3,
   "id": "cc3d8de3",
   "metadata": {
    "colab": {
     "base_uri": "https://localhost:8080/"
    },
    "executionInfo": {
     "elapsed": 45,
     "status": "ok",
     "timestamp": 1748886704396,
     "user": {
      "displayName": "Andres Gonzalez Sanchez",
      "userId": "16851361017637009623"
     },
     "user_tz": -120
    },
    "id": "cc3d8de3",
    "outputId": "970b003d-5d0e-43f9-d82c-c611b06a0a7d"
   },
   "outputs": [
    {
     "name": "stdout",
     "output_type": "stream",
     "text": [
      "Valor de spam: 42\n",
      "spam 42\n",
      "eggs 99\n"
     ]
    }
   ],
   "source": [
    "# Demo de diccionario\n",
    "d = {'spam': 42, 'eggs': 99}\n",
    "print('Valor de spam:', d['spam'])\n",
    "# Iteración mantiene orden\n",
    "for k, v in d.items():\n",
    "    print(k, v)"
   ]
  },
  {
   "cell_type": "markdown",
   "id": "6b7e3522",
   "metadata": {
    "id": "6b7e3522"
   },
   "source": [
    "## <a id='Set'></a>4. Set (`set`)\n",
    "**Colección desordenada de elementos únicos (hash‑table).**\n",
    "\n",
    "* Pertinencia y operaciones de conjunto: **O(1)** promedio.\n",
    "* Rápido para eliminar duplicados o hacer intersecciones/uniones.\n"
   ]
  },
  {
   "cell_type": "code",
   "execution_count": 4,
   "id": "748ec5b5",
   "metadata": {
    "colab": {
     "base_uri": "https://localhost:8080/"
    },
    "executionInfo": {
     "elapsed": 4,
     "status": "ok",
     "timestamp": 1748886743065,
     "user": {
      "displayName": "Andres Gonzalez Sanchez",
      "userId": "16851361017637009623"
     },
     "user_tz": -120
    },
    "id": "748ec5b5",
    "outputId": "d57d455c-82be-49ad-f8cb-3da5e227bbed"
   },
   "outputs": [
    {
     "name": "stdout",
     "output_type": "stream",
     "text": [
      "a = {1, 2, 3}\n",
      "Unión: {1, 2, 3, 4}\n",
      "Intersección: {3}\n"
     ]
    }
   ],
   "source": [
    "# Ejemplo de operaciones de conjunto\n",
    "a = {1, 2, 3, 3}\n",
    "b = {3, 4}\n",
    "print('a =', a)\n",
    "print('Unión:', a | b)\n",
    "print('Intersección:', a & b)"
   ]
  },
  {
   "cell_type": "markdown",
   "id": "92c8ae79",
   "metadata": {
    "id": "92c8ae79"
   },
   "source": [
    "## <a id='String'></a>5. String (`str`)\n",
    "**Secuencia inmutable de caracteres Unicode.**\n",
    "\n",
    "* Acceso índice: **O(1)**  \n",
    "* Concat naïf (`+`) ⇒ **O(n²)** si se hace en bucle; usa `''.join`.\n",
    "* Uso: texto, claves, serialización.\n"
   ]
  },
  {
   "cell_type": "code",
   "execution_count": 5,
   "id": "2da88062",
   "metadata": {
    "colab": {
     "base_uri": "https://localhost:8080/"
    },
    "executionInfo": {
     "elapsed": 6,
     "status": "ok",
     "timestamp": 1748886762624,
     "user": {
      "displayName": "Andres Gonzalez Sanchez",
      "userId": "16851361017637009623"
     },
     "user_tz": -120
    },
    "id": "2da88062",
    "outputId": "fd2eda6f-d148-4698-81fc-21c536f64076"
   },
   "outputs": [
    {
     "name": "stdout",
     "output_type": "stream",
     "text": [
      "hola\n",
      "HOLA MUNDO\n"
     ]
    }
   ],
   "source": [
    "# Ejemplo slicing y concatenación\n",
    "s = 'hola mundo'\n",
    "print(s[:4])\n",
    "print(s.upper())"
   ]
  },
  {
   "cell_type": "code",
   "execution_count": 6,
   "id": "hwigh6_3zai0",
   "metadata": {
    "executionInfo": {
     "elapsed": 4,
     "status": "ok",
     "timestamp": 1748887253433,
     "user": {
      "displayName": "Andres Gonzalez Sanchez",
      "userId": "16851361017637009623"
     },
     "user_tz": -120
    },
    "id": "hwigh6_3zai0"
   },
   "outputs": [],
   "source": [
    "parts = [\"abc\"] * 10_000          # 30 kB en total\n",
    "\n",
    "# O(n²): evita\n",
    "s = \"\"\n",
    "for p in parts:\n",
    "    s += p\n",
    "\n",
    "# O(n): preferido\n",
    "s = \"\".join(parts)\n"
   ]
  },
  {
   "cell_type": "markdown",
   "id": "3fe24763",
   "metadata": {
    "id": "3fe24763"
   },
   "source": [
    "## <a id='Deque'></a>6. Deque (`collections.deque`)\n",
    "**Cola doble terminada optimizada para inserciones/borrados en ambos extremos.**\n",
    "\n",
    "* `append`, `appendleft`, `pop`, `popleft` ⇒ **O(1)**  \n",
    "* Implementada como buffer circular.\n",
    "* Ideal para colas FIFO/LIFO grandes.\n"
   ]
  },
  {
   "cell_type": "code",
   "execution_count": 9,
   "id": "961d52af",
   "metadata": {
    "colab": {
     "base_uri": "https://localhost:8080/"
    },
    "executionInfo": {
     "elapsed": 52,
     "status": "ok",
     "timestamp": 1748888179525,
     "user": {
      "displayName": "Andres Gonzalez Sanchez",
      "userId": "16851361017637009623"
     },
     "user_tz": -120
    },
    "id": "961d52af",
    "outputId": "22196b29-c35f-4e44-d648-f55bd257f53e"
   },
   "outputs": [
    {
     "name": "stdout",
     "output_type": "stream",
     "text": [
      "deque(['z', 'a', 'b', 'c'])\n",
      "deque(['z', 'a', 'b'])\n"
     ]
    }
   ],
   "source": [
    "from collections import deque\n",
    "q = deque(['a', 'b', 'c'])\n",
    "q.appendleft('z')\n",
    "print(q)\n",
    "q.pop()\n",
    "print(q)"
   ]
  },
  {
   "cell_type": "markdown",
   "id": "be1cb609",
   "metadata": {
    "id": "be1cb609"
   },
   "source": [
    "## <a id='Resumen'></a>7. Resumen rápido\n",
    "| Estructura | Mutable | Ordenada | Duplicados | Caso de uso típico |\n",
    "|------------|---------|----------|------------|--------------------|\n",
    "| `list`     | ✔️      | ✔️       | ✔️         | Pilas/colecciones pequeñas |\n",
    "| `tuple`    | ❌      | ✔️       | ✔️         | Claves, registros ligeros |\n",
    "| `dict`     | ✔️      | ✔️       | ✖️ (claves) | Caches, mapeos clave‑valor |\n",
    "| `set`      | ✔️      | ✖️       | ✖️         | Eliminación duplicados |\n",
    "| `str`      | ❌      | ✔️       | ✔️         | Texto, claves |\n",
    "| `deque`    | ✔️      | ✔️       | ✔️         | Colas FIFO/LIFO grandes |"
   ]
  }
 ],
 "metadata": {
  "colab": {
   "provenance": []
  },
  "kernelspec": {
   "display_name": ".venv",
   "language": "python",
   "name": "python3"
  },
  "language_info": {
   "codemirror_mode": {
    "name": "ipython",
    "version": 3
   },
   "file_extension": ".py",
   "mimetype": "text/x-python",
   "name": "python",
   "nbconvert_exporter": "python",
   "pygments_lexer": "ipython3",
   "version": "3.13.5"
  }
 },
 "nbformat": 4,
 "nbformat_minor": 5
}
