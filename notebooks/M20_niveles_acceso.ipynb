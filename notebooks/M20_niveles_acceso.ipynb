{
 "cells": [
  {
   "cell_type": "code",
   "execution_count": 2,
   "id": "933462d8",
   "metadata": {},
   "outputs": [],
   "source": [
    "class Cuenta:\n",
    "    banco = \"PyBank\"              # público (atributo de clase)\n",
    "\n",
    "    def __init__(self, saldo):\n",
    "        self._saldo = saldo       # “protegido”\n",
    "        self.__pin = \"1234\"       # “privado”\n",
    "\n",
    "    def get_pin(self):\n",
    "        return self.__pin         # interfaz controlada\n"
   ]
  },
  {
   "cell_type": "code",
   "execution_count": 4,
   "id": "3d72ff3e",
   "metadata": {},
   "outputs": [
    {
     "ename": "AttributeError",
     "evalue": "'Cuenta' object has no attribute '__pin'",
     "output_type": "error",
     "traceback": [
      "\u001b[31m---------------------------------------------------------------------------\u001b[39m",
      "\u001b[31mAttributeError\u001b[39m                            Traceback (most recent call last)",
      "\u001b[36mCell\u001b[39m\u001b[36m \u001b[39m\u001b[32mIn[4]\u001b[39m\u001b[32m, line 4\u001b[39m\n\u001b[32m      1\u001b[39m c = Cuenta(\u001b[32m100\u001b[39m)\n\u001b[32m      2\u001b[39m c._saldo              \u001b[38;5;66;03m# posible, pero “no recomendado”\u001b[39;00m\n\u001b[32m----> \u001b[39m\u001b[32m4\u001b[39m \u001b[43mc\u001b[49m\u001b[43m.\u001b[49m\u001b[43m__pin\u001b[49m               \u001b[38;5;66;03m# AttributeError\u001b[39;00m\n\u001b[32m      5\u001b[39m c._Cuenta__pin        \u001b[38;5;66;03m# aún accesible (name-mangling)\u001b[39;00m\n",
      "\u001b[31mAttributeError\u001b[39m: 'Cuenta' object has no attribute '__pin'"
     ]
    }
   ],
   "source": [
    "c = Cuenta(100)\n",
    "c._saldo              # posible, pero “no recomendado”\n",
    "\n",
    "c.__pin               # AttributeError\n",
    "c._Cuenta__pin        # aún accesible (name-mangling)\n"
   ]
  },
  {
   "cell_type": "code",
   "execution_count": 5,
   "id": "be30855f",
   "metadata": {},
   "outputs": [
    {
     "data": {
      "text/plain": [
       "'1234'"
      ]
     },
     "execution_count": 5,
     "metadata": {},
     "output_type": "execute_result"
    }
   ],
   "source": [
    "c._Cuenta__pin        # aún accesible (name-mangling)\n"
   ]
  }
 ],
 "metadata": {
  "kernelspec": {
   "display_name": ".venv",
   "language": "python",
   "name": "python3"
  },
  "language_info": {
   "codemirror_mode": {
    "name": "ipython",
    "version": 3
   },
   "file_extension": ".py",
   "mimetype": "text/x-python",
   "name": "python",
   "nbconvert_exporter": "python",
   "pygments_lexer": "ipython3",
   "version": "3.13.5"
  }
 },
 "nbformat": 4,
 "nbformat_minor": 5
}
