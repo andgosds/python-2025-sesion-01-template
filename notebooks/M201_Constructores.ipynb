{
 "cells": [
  {
   "cell_type": "markdown",
   "id": "92bf00fd",
   "metadata": {},
   "source": [
    "\n",
    "# Constructores en Programación Orientada a Objetos (OOP) con Python \n",
    "\n",
    "En este notebook aprenderás:\n",
    "\n",
    "- Qué es un constructor en Python.\n",
    "- Cómo funciona el método `__init__`.\n",
    "- Diferencia entre atributos de clase e instancia.\n",
    "- Validación en constructores.\n",
    "- Uso de `super()` y herencia.\n",
    "- Métodos de clase como constructores alternativos.\n",
    "- Ejercicios prácticos con solución.\n"
   ]
  },
  {
   "cell_type": "markdown",
   "id": "a9124427",
   "metadata": {},
   "source": [
    "## 1. Constructor básico: `__init__`"
   ]
  },
  {
   "cell_type": "code",
   "execution_count": 1,
   "id": "4f4475a8",
   "metadata": {},
   "outputs": [
    {
     "name": "stdout",
     "output_type": "stream",
     "text": [
      "Ana 25\n",
      "Luis 18\n"
     ]
    }
   ],
   "source": [
    "\n",
    "class Persona:\n",
    "    def __init__(self, nombre, edad=18):\n",
    "        self.nombre = nombre\n",
    "        self.edad = edad\n",
    "\n",
    "p1 = Persona(\"Ana\", 25)\n",
    "p2 = Persona(\"Luis\")\n",
    "print(p1.nombre, p1.edad)\n",
    "print(p2.nombre, p2.edad)\n"
   ]
  },
  {
   "cell_type": "markdown",
   "id": "e2c4e220",
   "metadata": {},
   "source": [
    "## 2. Atributos de clase vs atributos de instancia"
   ]
  },
  {
   "cell_type": "code",
   "execution_count": 2,
   "id": "10aa6337",
   "metadata": {},
   "outputs": [
    {
     "name": "stdout",
     "output_type": "stream",
     "text": [
      "BankPY BankPY\n",
      "NuevoBank NuevoBank\n"
     ]
    }
   ],
   "source": [
    "\n",
    "class Cuenta:\n",
    "    banco = \"BankPY\"  # Atributo de clase\n",
    "\n",
    "    def __init__(self, titular):\n",
    "        self.titular = titular  # Atributo de instancia\n",
    "\n",
    "c1 = Cuenta(\"Ana\")\n",
    "c2 = Cuenta(\"Luis\")\n",
    "print(c1.banco, c2.banco)\n",
    "Cuenta.banco = \"NuevoBank\"\n",
    "print(c1.banco, c2.banco)\n"
   ]
  },
  {
   "cell_type": "markdown",
   "id": "3e0b5165",
   "metadata": {},
   "source": [
    "\n",
    "### Ejercicio 1:\n",
    "\n",
    "Crea una clase `Auto` que tenga:\n",
    "\n",
    "- Un atributo de clase `ruedas = 4`.\n",
    "- Un atributo de instancia `color`.\n",
    "\n",
    "Crea dos autos y verifica que ambos comparten el número de ruedas.\n"
   ]
  },
  {
   "cell_type": "code",
   "execution_count": null,
   "id": "093672db",
   "metadata": {},
   "outputs": [
    {
     "name": "stdout",
     "output_type": "stream",
     "text": [
      "Rojo 4\n",
      "Azul 4\n"
     ]
    }
   ],
   "source": [
    "\n",
    "\n"
   ]
  },
  {
   "cell_type": "markdown",
   "id": "14570adf",
   "metadata": {},
   "source": [
    "## 3. Validación en el constructor"
   ]
  },
  {
   "cell_type": "code",
   "execution_count": 12,
   "id": "b78f19d1",
   "metadata": {},
   "outputs": [
    {
     "name": "stdout",
     "output_type": "stream",
     "text": [
      "100\n"
     ]
    }
   ],
   "source": [
    "\n",
    "class CuentaBancaria:\n",
    "    def __init__(self, saldo_inicial):\n",
    "        if saldo_inicial < 0:\n",
    "            raise ValueError(\"El saldo no puede ser negativo.\")\n",
    "        self.saldo = saldo_inicial\n",
    "\n",
    "c = CuentaBancaria(100)\n",
    "print(c.saldo)\n"
   ]
  },
  {
   "cell_type": "markdown",
   "id": "32c05b98",
   "metadata": {},
   "source": [
    "## 4. Uso de `super()` y herencia"
   ]
  },
  {
   "cell_type": "code",
   "execution_count": 13,
   "id": "513ef8de",
   "metadata": {},
   "outputs": [
    {
     "name": "stdout",
     "output_type": "stream",
     "text": [
      "Toby Labrador\n"
     ]
    }
   ],
   "source": [
    "\n",
    "class Animal:\n",
    "    def __init__(self, nombre):\n",
    "        self.nombre = nombre\n",
    "\n",
    "class Perro(Animal):\n",
    "    def __init__(self, nombre, raza):\n",
    "        super().__init__(nombre)\n",
    "        self.raza = raza\n",
    "\n",
    "p = Perro(\"Toby\", \"Labrador\")\n",
    "print(p.nombre, p.raza)\n"
   ]
  },
  {
   "cell_type": "markdown",
   "id": "6a014fbe",
   "metadata": {},
   "source": [
    "\n",
    "### Ejercicio 2:\n",
    "\n",
    "Crea dos clases:\n",
    "\n",
    "- `Empleado` con atributo `nombre`.\n",
    "- `Programador` que herede de `Empleado` y además tenga `lenguaje`.\n",
    "\n",
    "Usa `super()` para inicializar correctamente.\n"
   ]
  },
  {
   "cell_type": "code",
   "execution_count": null,
   "id": "c977c2ae",
   "metadata": {},
   "outputs": [
    {
     "name": "stdout",
     "output_type": "stream",
     "text": [
      "Ana Python\n"
     ]
    }
   ],
   "source": [
    "\n",
    "\n"
   ]
  },
  {
   "cell_type": "markdown",
   "id": "34a9c3ae",
   "metadata": {},
   "source": [
    "## 5. Métodos de clase como constructores alternativos"
   ]
  },
  {
   "cell_type": "code",
   "execution_count": 7,
   "id": "5bb02666",
   "metadata": {},
   "outputs": [
    {
     "name": "stdout",
     "output_type": "stream",
     "text": [
      "Lucas 30\n"
     ]
    }
   ],
   "source": [
    "\n",
    "class Usuario:\n",
    "    def __init__(self, nombre, edad):\n",
    "        self.nombre = nombre\n",
    "        self.edad = edad\n",
    "\n",
    "    @classmethod\n",
    "    def desde_string(cls, cadena):\n",
    "        nombre, edad = cadena.split(\",\")\n",
    "        return cls(nombre, int(edad))\n",
    "\n",
    "u = Usuario.desde_string(\"Lucas,30\")\n",
    "print(u.nombre, u.edad)\n"
   ]
  },
  {
   "cell_type": "markdown",
   "id": "89beb5d3",
   "metadata": {},
   "source": [
    "\n",
    "## ✅ Conclusión\n",
    "\n",
    "En este notebook has aprendido:\n",
    "\n",
    "- Qué es y cómo funciona el constructor `__init__`.\n",
    "- Diferencia entre atributos de clase e instancia.\n",
    "- Cómo usar `super()` para herencia.\n",
    "- Métodos de clase como constructores alternativos.\n",
    "- Validaciones dentro del constructor.\n",
    "\n",
    "\n",
    "Practicar estos conceptos te ayudará a entender mejor la creación y gestión de objetos en Python.\n"
   ]
  },
  {
   "cell_type": "markdown",
   "id": "ef9a1a3f",
   "metadata": {},
   "source": []
  }
 ],
 "metadata": {
  "kernelspec": {
   "display_name": ".venv",
   "language": "python",
   "name": "python3"
  },
  "language_info": {
   "codemirror_mode": {
    "name": "ipython",
    "version": 3
   },
   "file_extension": ".py",
   "mimetype": "text/x-python",
   "name": "python",
   "nbconvert_exporter": "python",
   "pygments_lexer": "ipython3",
   "version": "3.13.5"
  }
 },
 "nbformat": 4,
 "nbformat_minor": 5
}
