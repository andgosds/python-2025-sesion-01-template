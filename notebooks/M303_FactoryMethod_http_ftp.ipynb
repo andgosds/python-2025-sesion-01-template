{
 "cells": [
  {
   "cell_type": "markdown",
   "id": "61854e98",
   "metadata": {},
   "source": [
    "\n",
    "# Implementación del Patrón Factory Method: Acceso a recursos HTTP o FTP \n",
    "\n",
    "En este ejemplo vamos a crear una herramienta que permita acceder a recursos web usando **protocolo HTTP o FTP**, aplicando el patrón de diseño **Factory Method**.\n",
    "\n",
    "---\n",
    "\n",
    "### Contexto del problema:\n",
    "\n",
    "- Algunos servidores web permiten acceder a sus recursos vía **FTP** (usando un cliente tipo FileZilla).\n",
    "- Otros permiten acceder a los mismos recursos vía **HTTP o HTTPS** (desde un navegador).\n",
    "\n",
    "Por ejemplo, el servidor `ftp.freebsd.org` es accesible tanto por **http://ftp.freebsd.org** como por **ftp://ftp.freebsd.org**.\n",
    "\n",
    "---\n",
    "\n",
    "### Objetivo del ejercicio:\n",
    "\n",
    "Diseñar una aplicación en Python que pueda:\n",
    "\n",
    "- Obtener un listado de archivos desde un servidor.\n",
    "- Elegir en tiempo de ejecución entre **HTTP** o **FTP**.\n",
    "- Usar un **mismo cliente** pero con **conectores distintos**, gracias a la aplicación del patrón **Factory Method**.\n",
    "\n",
    "Cada tipo de conexión (HTTP o FTP) se implementará como una **subclase concreta**, que decide:\n",
    "\n",
    "- Qué protocolo utilizar.\n",
    "- Qué puerto utilizar.\n",
    "- Cómo interpretar (parsear) la respuesta del servidor.\n",
    "\n",
    "---\n",
    "\n",
    "**Tecnologías utilizadas:**\n",
    "\n",
    "- `requests` → Para conexiones HTTP/HTTPS.\n",
    "- `ftplib` → Para conexiones FTP.\n",
    "- `BeautifulSoup` → Para parseo de HTML.\n",
    "- `abc` → Para definir clases abstractas.\n",
    "\n"
   ]
  },
  {
   "cell_type": "code",
   "execution_count": 2,
   "id": "88725165",
   "metadata": {},
   "outputs": [],
   "source": [
    "\n",
    "from abc import ABC, abstractmethod\n",
    "import requests\n",
    "from requests.exceptions import RequestException\n",
    "from ftplib import FTP\n",
    "from bs4 import BeautifulSoup\n",
    "from typing import List\n"
   ]
  },
  {
   "cell_type": "markdown",
   "id": "b13029d1",
   "metadata": {},
   "source": [
    "## Productos concretos: puertos"
   ]
  },
  {
   "cell_type": "code",
   "execution_count": 3,
   "id": "71f48815",
   "metadata": {},
   "outputs": [],
   "source": [
    "\n",
    "class Port(ABC):\n",
    "    @abstractmethod\n",
    "    def __str__(self): ...\n",
    "\n",
    "class HTTPPort(Port):\n",
    "    def __str__(self): return \"80\"\n",
    "\n",
    "class HTTPSecurePort(Port):\n",
    "    def __str__(self): return \"443\"\n",
    "\n",
    "class FTPPort(Port):\n",
    "    def __str__(self): return \"21\"\n"
   ]
  },
  {
   "cell_type": "markdown",
   "id": "0787ae04",
   "metadata": {},
   "source": [
    "## Connector"
   ]
  },
  {
   "cell_type": "code",
   "execution_count": 5,
   "id": "9e0c73da",
   "metadata": {},
   "outputs": [],
   "source": [
    "\n",
    "class Connector(ABC):\n",
    "    \"\"\"Define el Factory Method (`port_factory_method`) y la lógica común.\"\"\"\n",
    "    def __init__(self, secure: bool):\n",
    "        self.secure = secure                # HTTPS vs HTTP\n",
    "        self.port = self.port_factory_method()\n",
    "        self.protocol = self.protocol_factory_method()\n",
    "\n",
    "    @abstractmethod\n",
    "    def protocol_factory_method(self) -> str:\n",
    "        pass\n",
    "\n",
    "    @abstractmethod\n",
    "    def port_factory_method(self) -> Port:\n",
    "        pass\n",
    "\n",
    "    @abstractmethod\n",
    "    def read(self, host: str, path: str) -> bytes | None:\n",
    "        \"\"\"Lee bytes del recurso remoto (puede devolver None si falla).\"\"\"\n",
    "\n",
    "    @abstractmethod\n",
    "    def parse_listing(self, raw: bytes) -> List[str]:\n",
    "        \"\"\"Extrae lista de archivos del contenido descargado.\"\"\"\n"
   ]
  },
  {
   "cell_type": "markdown",
   "id": "5872df64",
   "metadata": {},
   "source": [
    "## Creator concreto: HTTPConnector"
   ]
  },
  {
   "cell_type": "code",
   "execution_count": 6,
   "id": "38527559",
   "metadata": {},
   "outputs": [],
   "source": [
    "\n",
    "class HTTPConnector(Connector):\n",
    "    def protocol_factory_method(self) -> str:\n",
    "        return \"https\" if self.secure else \"http\"\n",
    "\n",
    "    def port_factory_method(self) -> Port:\n",
    "        return HTTPSecurePort() if self.secure else HTTPPort()\n",
    "\n",
    "    def read(self, host: str, path: str) -> bytes | None:\n",
    "        url = f\"{self.protocol}://{host}:{self.port}{path}\"\n",
    "        print(\"GET\", url)\n",
    "        try:\n",
    "            resp = requests.get(url, timeout=5)\n",
    "            resp.raise_for_status()\n",
    "            return resp.content\n",
    "        except RequestException as e:\n",
    "            print(\"[HTTP] Error:\", e)\n",
    "            return None\n",
    "\n",
    "    def parse_listing(self, raw: bytes) -> List[str]:\n",
    "        \"\"\"Parsea un <table> HTML típica de un index de Apache/NGINX.\"\"\"\n",
    "        soup = BeautifulSoup(raw, 'html.parser')\n",
    "        out = []\n",
    "        if soup.table:\n",
    "            for link in soup.table.find_all('a'):\n",
    "                out.append(link.get_text(strip=True))\n",
    "        return out\n"
   ]
  },
  {
   "cell_type": "markdown",
   "id": "c397d8ef",
   "metadata": {},
   "source": [
    "## Creator concreto: FTPConnector"
   ]
  },
  {
   "cell_type": "code",
   "execution_count": 7,
   "id": "027ec688",
   "metadata": {},
   "outputs": [],
   "source": [
    "\n",
    "class FTPConnector(Connector):\n",
    "    def protocol_factory_method(self) -> str:\n",
    "        return \"ftp\"\n",
    "\n",
    "    def port_factory_method(self) -> Port:\n",
    "        return FTPPort()\n",
    "\n",
    "    def read(self, host: str, path: str) -> bytes | None:\n",
    "        \"\"\"Devuelve el listado de directorio como bytes (texto).\"\"\"\n",
    "        print(f\"Conectando vía FTP a {host}:{self.port}{path}\")\n",
    "        try:\n",
    "            with FTP() as ftp:\n",
    "                ftp.connect(host, int(str(self.port)), timeout=5)\n",
    "                ftp.login()                       # acceso anónimo\n",
    "                ftp.cwd(path)\n",
    "                lines = []\n",
    "                ftp.retrlines('LIST', callback=lines.append)\n",
    "                return \"\\n\".join(lines).encode()\n",
    "        except Exception as e:\n",
    "            print(\"[FTP] Error:\", e)\n",
    "            return None\n",
    "\n",
    "    def parse_listing(self, raw: bytes) -> List[str]:\n",
    "        lines = raw.decode(errors='ignore').split('\\n')\n",
    "        files = []\n",
    "        for line in lines:\n",
    "            parts = line.split(None, 8)\n",
    "            if len(parts) == 9:\n",
    "                files.append(parts[-1])\n",
    "        return files\n"
   ]
  },
  {
   "cell_type": "markdown",
   "id": "e75b4ba9",
   "metadata": {},
   "source": [
    "## Cliente interactivo"
   ]
  },
  {
   "cell_type": "code",
   "execution_count": 9,
   "id": "a2fab138",
   "metadata": {},
   "outputs": [
    {
     "name": "stdout",
     "output_type": "stream",
     "text": [
      "GET https://ftp.gnu.org:443/\n",
      "\n",
      "Archivos encontrados:\n",
      " - Name\n",
      " - Last modified\n",
      " - Size\n",
      " - Description\n",
      " - CRYPTO.README\n",
      " - MISSING-FILES\n",
      " - MISSING-FILES.README\n",
      " - README\n",
      " - before-2003-08-01.md5sums.asc\n",
      " - find.txt.gz\n",
      " - gnu+linux-distros/\n",
      " - gnu/\n",
      " - ls-lrRt.txt.gz\n",
      " - mirrors/\n",
      " - non-gnu/\n",
      " - old-gnu/\n",
      " - pub/\n",
      " - robots.txt\n",
      " - savannah/\n",
      " - third-party/\n",
      " - tmp/\n",
      " - tree.json.gz\n",
      " - video/\n",
      " - welcome.msg\n"
     ]
    }
   ],
   "source": [
    "\n",
    "domain = 'ftp.gnu.org'\n",
    "path = '/'  # directorio raíz\n",
    "\n",
    "proto = int(input(\"Protocolo (0=HTTP, 1=FTP): \"))\n",
    "\n",
    "if proto == 0:\n",
    "    secure = bool(int(input(\"¿HTTPS? (1=Sí,0=No): \")))\n",
    "    connector = HTTPConnector(secure)\n",
    "else:\n",
    "    connector = FTPConnector(False)\n",
    "\n",
    "raw = connector.read(domain, path)\n",
    "if raw:\n",
    "    files = connector.parse_listing(raw)\n",
    "    print(\"\\nArchivos encontrados:\")\n",
    "    for f in files:\n",
    "        print(\" -\", f)\n",
    "else:\n",
    "    print(\"No se pudo obtener el contenido.\")\n"
   ]
  },
  {
   "cell_type": "markdown",
   "id": "923ab0d5",
   "metadata": {},
   "source": [
    "# Resumen\n",
    "\n",
    "En este notebook hemos implementado el patrón **Factory Method** para desacoplar:\n",
    "\n",
    "1. **La lógica de negocio común** (lectura de contenido remoto)  \n",
    "de  \n",
    "2. **La lógica de creación de objetos específicos** (elección de protocolo y puerto).\n",
    "\n",
    "---\n",
    "\n",
    "### Ventajas de este enfoque:\n",
    "\n",
    "- Podemos **cambiar o ampliar** el número de protocolos en el futuro sin modificar el código cliente.\n",
    "- El cliente solo conoce la **interfaz común (Connector)**, no las subclases concretas.\n",
    "- Mantenemos **bajo acoplamiento** y favorecemos el principio **Open/Closed**.\n",
    "\n",
    "---\n",
    "\n",
    "\n",
    "Este es un ejemplo práctico de cómo el patrón **Factory Method** nos ayuda a crear código extensible y mantenible en aplicaciones reales.\n"
   ]
  }
 ],
 "metadata": {
  "kernelspec": {
   "display_name": ".venv",
   "language": "python",
   "name": "python3"
  },
  "language_info": {
   "codemirror_mode": {
    "name": "ipython",
    "version": 3
   },
   "file_extension": ".py",
   "mimetype": "text/x-python",
   "name": "python",
   "nbconvert_exporter": "python",
   "pygments_lexer": "ipython3",
   "version": "3.13.5"
  }
 },
 "nbformat": 4,
 "nbformat_minor": 5
}
