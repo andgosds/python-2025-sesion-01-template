{
 "cells": [
  {
   "cell_type": "markdown",
   "id": "40cef75a",
   "metadata": {},
   "source": [
    "\n",
    "# Patrón Singleton en Python 🐍\n",
    "\n",
    "Este notebook explica el patrón de diseño **Singleton**, su motivación, ejemplos en Python y varios ejercicios prácticos de dificultad creciente.\n"
   ]
  },
  {
   "cell_type": "markdown",
   "id": "413dc357",
   "metadata": {},
   "source": [
    "\n",
    "## ¿Qué es el Singleton?\n",
    "\n",
    "**Definición rápida:** Garantiza que una clase **solo tenga una instancia** y que se proporcione un **punto de acceso global** a ella.\n",
    "\n",
    "### Cuándo usarlo:\n",
    "- Cuando hay **recursos compartidos** (conexión a BD, configuración global, logger).\n",
    "- Cuando quieres evitar que el programa cree varias instancias de algo que debería ser único.\n"
   ]
  },
  {
   "cell_type": "markdown",
   "id": "55a8de66",
   "metadata": {},
   "source": [
    "\n",
    "## Ejemplo clásico de Singleton en Python\n"
   ]
  },
  {
   "cell_type": "code",
   "execution_count": 1,
   "id": "106583a8",
   "metadata": {},
   "outputs": [
    {
     "name": "stdout",
     "output_type": "stream",
     "text": [
      "Creando nueva instancia...\n",
      "True\n"
     ]
    }
   ],
   "source": [
    "\n",
    "class Singleton:\n",
    "    _instance = None\n",
    "\n",
    "    def __new__(cls):\n",
    "        if cls._instance is None:\n",
    "            print(\"Creando nueva instancia...\")\n",
    "            cls._instance = super().__new__(cls)\n",
    "        return cls._instance\n",
    "\n",
    "# Probar el Singleton\n",
    "s1 = Singleton()\n",
    "s2 = Singleton()\n",
    "\n",
    "print(s1 is s2)  # True\n"
   ]
  },
  {
   "cell_type": "markdown",
   "id": "0903ac05",
   "metadata": {},
   "source": [
    "\n",
    "## Ejercicio 1: Implementa tu propio Singleton\n",
    "\n",
    "Crea una clase llamada `LoggerSingleton` que guarde un registro de mensajes en una lista interna `logs`. La clase debe ser un Singleton.\n",
    "\n",
    "Prueba que todas las instancias comparten la misma lista de logs.\n"
   ]
  },
  {
   "cell_type": "code",
   "execution_count": 2,
   "id": "a75ca5ec",
   "metadata": {},
   "outputs": [
    {
     "name": "stdout",
     "output_type": "stream",
     "text": [
      "['Mensaje 1', 'Mensaje 2']\n",
      "True\n"
     ]
    }
   ],
   "source": [
    "\n",
    "# ✅ Solución:\n",
    "\n",
    "class LoggerSingleton:\n",
    "    _instance = None\n",
    "\n",
    "    def __new__(cls):\n",
    "        if cls._instance is None:\n",
    "            cls._instance = super().__new__(cls)\n",
    "            cls._instance.logs = []\n",
    "        return cls._instance\n",
    "\n",
    "# Test\n",
    "logger1 = LoggerSingleton()\n",
    "logger2 = LoggerSingleton()\n",
    "\n",
    "logger1.logs.append(\"Mensaje 1\")\n",
    "logger2.logs.append(\"Mensaje 2\")\n",
    "\n",
    "print(logger1.logs)  # Ambas instancias comparten la misma lista\n",
    "print(logger1 is logger2)  # True\n"
   ]
  },
  {
   "cell_type": "markdown",
   "id": "6db1f002",
   "metadata": {},
   "source": [
    "\n",
    "## Variante: Borg Pattern (Monostate)\n",
    "\n",
    "Permite múltiples instancias, pero **todas comparten el mismo estado**.\n"
   ]
  },
  {
   "cell_type": "code",
   "execution_count": 3,
   "id": "6dd52ade",
   "metadata": {},
   "outputs": [
    {
     "name": "stdout",
     "output_type": "stream",
     "text": [
      "42\n",
      "False\n"
     ]
    }
   ],
   "source": [
    "\n",
    "class Borg:\n",
    "    _shared_state = {}\n",
    "\n",
    "    def __new__(cls):\n",
    "        obj = super().__new__(cls)\n",
    "        obj.__dict__ = cls._shared_state\n",
    "        return obj\n",
    "\n",
    "# Test\n",
    "b1 = Borg()\n",
    "b2 = Borg()\n",
    "\n",
    "b1.x = 42\n",
    "print(b2.x)  # 42, comparten el estado\n",
    "\n",
    "print(b1 is b2)  # False: son instancias diferentes pero con estado compartido\n"
   ]
  },
  {
   "cell_type": "markdown",
   "id": "bd92d9ee",
   "metadata": {},
   "source": [
    "\n",
    "## Ejercicio 2: Singleton con método de clase\n",
    "\n",
    "Crea un Singleton llamado `Config` pero esta vez usando un **classmethod** para acceder a la instancia, no con `__new__`.\n",
    "\n",
    "Debe tener un atributo `settings` que sea un diccionario.\n"
   ]
  },
  {
   "cell_type": "code",
   "execution_count": 4,
   "id": "9b79e8b0",
   "metadata": {},
   "outputs": [
    {
     "name": "stdout",
     "output_type": "stream",
     "text": [
      "{'debug': True}\n",
      "True\n"
     ]
    }
   ],
   "source": [
    "\n",
    "# ✅ Solución:\n",
    "\n",
    "class Config:\n",
    "    _instance = None\n",
    "\n",
    "    def __init__(self):\n",
    "        self.settings = {}\n",
    "\n",
    "    @classmethod\n",
    "    def get_instance(cls):\n",
    "        if cls._instance is None:\n",
    "            cls._instance = cls()\n",
    "        return cls._instance\n",
    "\n",
    "# Test\n",
    "c1 = Config.get_instance()\n",
    "c2 = Config.get_instance()\n",
    "\n",
    "c1.settings['debug'] = True\n",
    "print(c2.settings)  # {'debug': True}\n",
    "print(c1 is c2)  # True\n"
   ]
  },
  {
   "cell_type": "markdown",
   "id": "981eb37e",
   "metadata": {},
   "source": [
    "\n",
    "## Ejercicio 3: Singleton Thread-safe\n",
    "\n",
    "Modifica el siguiente código para que el Singleton sea **seguro frente a múltiples hilos** (Thread-safe).\n"
   ]
  },
  {
   "cell_type": "code",
   "execution_count": 14,
   "id": "3c7153ef",
   "metadata": {},
   "outputs": [
    {
     "name": "stdout",
     "output_type": "stream",
     "text": [
      "Instancia: 127662201655648\n",
      "Instancia: 127662201655648\n",
      "Instancia: 127662201655648\n",
      "Instancia: 127662201655648\n",
      "Instancia: 127662201655648\n"
     ]
    },
    {
     "data": {
      "text/plain": [
       "[None, None, None, None, None]"
      ]
     },
     "execution_count": 14,
     "metadata": {},
     "output_type": "execute_result"
    }
   ],
   "source": [
    "import threading\n",
    "\n",
    "class SafeSingleton:\n",
    "    \"\"\"\n",
    "    Implementación de Singleton *thread-safe* (segura frente a múltiples hilos).\n",
    "\n",
    "    Idea:\n",
    "    - La primera vez que cualquier hilo ejecuta SafeSingleton(), se crea una instancia.\n",
    "    - Las siguientes llamadas devuelven EXACTAMENTE la misma (misma dirección de memoria).\n",
    "    - Un candado (`_lock`) protege la sección crítica para evitar que dos hilos\n",
    "      construyan la instancia a la vez.\n",
    "    \"\"\"\n",
    "\n",
    "    # Referencia a la única instancia (se comparte entre todos los hilos).\n",
    "    _instance = None\n",
    "\n",
    "    # Candado de clase (una sóla copia) que protege la construcción simultánea.\n",
    "    _lock = threading.Lock()\n",
    "\n",
    "    def __new__(cls):\n",
    "        \"\"\"\n",
    "        __new__ se ejecuta ANTES de __init__ y es responsable de crear el objeto.\n",
    "        Implementamos el patrón “double-checked locking”:\n",
    "\n",
    "        1) Miramos si ya existe la instancia (sin bloquear) → fast-path.\n",
    "        2) Si no existe, adquirimos el lock.\n",
    "        3) Comprobamos de nuevo (otro hilo podría haberla creado mientras\n",
    "           esperábamos el lock).\n",
    "        4) Creamos la instancia sólo si sigue siendo None.\n",
    "        \"\"\"\n",
    "        if cls._instance is None:                 # 1ª comprobación (sin lock)\n",
    "            with cls._lock:                       # sección crítica\n",
    "                if cls._instance is None:         # 2ª comprobación (con lock)\n",
    "                    cls._instance = super().__new__(cls)\n",
    "        return cls._instance\n",
    "\n",
    "\n",
    "# Test multi-hilo\n",
    "\n",
    "def create_instance():\n",
    "    \"\"\"Función destinada a cada hilo: solicita la instancia y muestra su id().\"\"\"\n",
    "    s = SafeSingleton()\n",
    "    print(f\"Instancia: {id(s)}\")\n",
    "\n",
    "\n",
    "# Lanzamos 5 hilos que intentan crear la instancia al mismo tiempo.\n",
    "threads = [threading.Thread(target=create_instance) for _ in range(5)]\n",
    "\n",
    "# Iniciar los hilos (start es asíncrono: cada hilo ejecuta create_instance).\n",
    "[t.start() for t in threads]\n",
    "\n",
    "\n",
    "\n"
   ]
  },
  {
   "cell_type": "markdown",
   "id": "55b8ec31",
   "metadata": {},
   "source": [
    "\n",
    "## Ejercicio 4: Singleton como decorador\n",
    "\n",
    "Crea un decorador `singleton` que convierta **cualquier clase** en Singleton.\n"
   ]
  },
  {
   "cell_type": "code",
   "execution_count": 6,
   "id": "9122c6ce",
   "metadata": {},
   "outputs": [
    {
     "name": "stdout",
     "output_type": "stream",
     "text": [
      "True\n"
     ]
    }
   ],
   "source": [
    "\n",
    "# ✅ Solución:\n",
    "\n",
    "def singleton(cls):\n",
    "    instances = {}\n",
    "\n",
    "    def get_instance(*args, **kwargs):\n",
    "        if cls not in instances:\n",
    "            instances[cls] = cls(*args, **kwargs)\n",
    "        return instances[cls]\n",
    "\n",
    "    return get_instance\n",
    "\n",
    "@singleton\n",
    "class Settings:\n",
    "    pass\n",
    "\n",
    "s1 = Settings()\n",
    "s2 = Settings()\n",
    "print(s1 is s2)  # True\n"
   ]
  }
 ],
 "metadata": {
  "kernelspec": {
   "display_name": ".venv",
   "language": "python",
   "name": "python3"
  },
  "language_info": {
   "codemirror_mode": {
    "name": "ipython",
    "version": 3
   },
   "file_extension": ".py",
   "mimetype": "text/x-python",
   "name": "python",
   "nbconvert_exporter": "python",
   "pygments_lexer": "ipython3",
   "version": "3.13.5"
  }
 },
 "nbformat": 4,
 "nbformat_minor": 5
}
