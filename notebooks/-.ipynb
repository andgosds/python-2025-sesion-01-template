{
 "cells": [
  {
   "cell_type": "code",
   "execution_count": null,
   "id": "5858700b",
   "metadata": {},
   "outputs": [],
   "source": [
    "@app.route(\"/hi/<who>\")\n",
    "def greet(who):\n",
    "    return jsonify(f\"Hello {who}\")\n"
   ]
  },
  {
   "cell_type": "code",
   "execution_count": null,
   "id": "18cee9aa",
   "metadata": {},
   "outputs": [],
   "source": [
    "@app.get(\"/hi/{who}\")\n",
    "def greet(who: str):\n",
    "    return f\"Hello {who}\"\n"
   ]
  },
  {
   "cell_type": "code",
   "execution_count": null,
   "id": "8cbb7fd6",
   "metadata": {},
   "outputs": [],
   "source": [
    "GET /users/5        → Obtener usuario con id 5\n",
    "POST /users         → Crear un nuevo usuario\n",
    "PUT /users/5        → Actualizar el usuario 5\n",
    "DELETE /users/5     → Borrar el usuario 5\n"
   ]
  },
  {
   "cell_type": "code",
   "execution_count": null,
   "id": "38e0faf5",
   "metadata": {},
   "outputs": [],
   "source": [
    "class Persona:\n",
    "    def __init__(self, nombre: str, edad: int):\n",
    "        self.nombre = nombre #Atributo 1\n",
    "        self.edad = edad     #Atributo 2\n",
    "\n",
    "    def __repr__(self):\n",
    "        return f\"Persona(nombre={self.nombre}, edad={self.edad})\""
   ]
  },
  {
   "cell_type": "code",
   "execution_count": null,
   "id": "ebf69800",
   "metadata": {},
   "outputs": [],
   "source": [
    "class Animal:\n",
    "    def hablar(self):\n",
    "        print(\"Hace un sonido genérico\")\n",
    "\n",
    "class Perro(Animal):\n",
    "    def hablar(self):\n",
    "        print(\"Guau!\")\n",
    "\n",
    "a = Animal()\n",
    "p = Perro()\n",
    "\n",
    "a.hablar()  # Hace un sonido genérico\n",
    "p.hablar()  # Guau!"
   ]
  },
  {
   "cell_type": "code",
   "execution_count": 5,
   "id": "53457a1c",
   "metadata": {},
   "outputs": [
    {
     "name": "stdout",
     "output_type": "stream",
     "text": [
      "Volando\n",
      "Nadando\n",
      "Moviéndose por el aire\n",
      "Volando\n",
      "Nadando\n",
      "Moviéndose por el agua\n"
     ]
    }
   ],
   "source": [
    "class Volador:\n",
    "    def volar(self):\n",
    "        print(\"Volando\")\n",
    "    def moverse(self):\n",
    "        print(\"Moviéndose por el aire\")\n",
    "\n",
    "class Nadador:\n",
    "    def nadar(self):\n",
    "        print(\"Nadando\")\n",
    "    def moverse(self):\n",
    "        print(\"Moviéndose por el agua\")\n",
    "\n",
    "class Pato(Volador, Nadador):\n",
    "    pass\n",
    "\n",
    "p = Pato()\n",
    "p.volar()  # Salida: \"Volando\"\n",
    "p.nadar()  # Salida: \"Nadando\"\n",
    "p.moverse()\n",
    "\n",
    "class Pato( Nadador, Volador):\n",
    "    pass\n",
    "\n",
    "p = Pato()\n",
    "p.volar()  # Salida: \"Volando\"\n",
    "p.nadar()  # Salida: \"Nadando\"\n",
    "p.moverse()"
   ]
  },
  {
   "cell_type": "code",
   "execution_count": null,
   "id": "23c80b50",
   "metadata": {},
   "outputs": [],
   "source": []
  }
 ],
 "metadata": {
  "kernelspec": {
   "display_name": ".venv",
   "language": "python",
   "name": "python3"
  },
  "language_info": {
   "codemirror_mode": {
    "name": "ipython",
    "version": 3
   },
   "file_extension": ".py",
   "mimetype": "text/x-python",
   "name": "python",
   "nbconvert_exporter": "python",
   "pygments_lexer": "ipython3",
   "version": "3.13.5"
  }
 },
 "nbformat": 4,
 "nbformat_minor": 5
}
